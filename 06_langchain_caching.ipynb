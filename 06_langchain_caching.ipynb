{
 "cells": [
  {
   "cell_type": "code",
   "execution_count": 3,
   "id": "5868ea12",
   "metadata": {},
   "outputs": [
    {
     "data": {
      "text/plain": [
       "True"
      ]
     },
     "execution_count": 3,
     "metadata": {},
     "output_type": "execute_result"
    }
   ],
   "source": [
    "from dotenv import load_dotenv\n",
    "import os\n",
    "\n",
    "load_dotenv()\n",
    "# os.environ[\"OPENAI_API_KEY\"]"
   ]
  },
  {
   "cell_type": "code",
   "execution_count": 4,
   "id": "48cb20f1",
   "metadata": {},
   "outputs": [
    {
     "data": {
      "text/plain": [
       "'0.3.27'"
      ]
     },
     "execution_count": 4,
     "metadata": {},
     "output_type": "execute_result"
    }
   ],
   "source": [
    "import langchain\n",
    "langchain.__version__"
   ]
  },
  {
   "cell_type": "code",
   "execution_count": 5,
   "id": "3a2e3f42",
   "metadata": {},
   "outputs": [
    {
     "data": {
      "text/plain": [
       "ChatOpenAI(client=<openai.resources.chat.completions.completions.Completions object at 0x0000023DE2524140>, async_client=<openai.resources.chat.completions.completions.AsyncCompletions object at 0x0000023DE2A2C7D0>, root_client=<openai.OpenAI object at 0x0000023DDFB45070>, root_async_client=<openai.AsyncOpenAI object at 0x0000023DE271B320>, model_name='gpt-4o-mini', model_kwargs={}, openai_api_key=SecretStr('**********'))"
      ]
     },
     "execution_count": 5,
     "metadata": {},
     "output_type": "execute_result"
    }
   ],
   "source": [
    "from langchain_openai import ChatOpenAI\n",
    "llm = ChatOpenAI(model=\"gpt-4o-mini\")\n",
    "llm"
   ]
  },
  {
   "cell_type": "code",
   "execution_count": null,
   "id": "3af5cdd6",
   "metadata": {},
   "outputs": [],
   "source": [
    "# invoke()"
   ]
  },
  {
   "cell_type": "code",
   "execution_count": 8,
   "id": "efba3629",
   "metadata": {},
   "outputs": [
    {
     "data": {
      "text/plain": [
       "AIMessage(content='서울을 대표하는 음식을 맛볼 수 있는 레스토랑 5곳을 추천해 드립니다.\\n\\n1. **광장시장**  \\n   대표 음식: 빈대떡, 마약김밥  \\n   광장시장은 다양한 한국 전통 음식을 즐길 수 있는 장소입니다. 빈대떡과 마약김밥은 특히 인기 있으며, 시장의 활기찬 분위기 속에서 음식을 즐길 수 있습니다.\\n\\n2. **춘천닭갈비**  \\n   대표 음식: 닭갈비  \\n   강원도 춘천에서 유래된 닭갈비를 전문으로 하는 레스토랑으로, 매콤한 양념에 볶아낸 닭고기를 채소와 함께 즐길 수 있습니다. 서울의 여러 곳에 위치해 있습니다.\\n\\n3. **갓포 스시 도모**  \\n   대표 음식: 스시  \\n   일본 요리를 기반으로 한 갓포 스타일의 레스토랑으로, 신선한 재료로 만든 스시를 제공합니다. 이 곳에서 다양한 해산물을 이용한 음식을 즐길 수 있습니다.\\n\\n4. **한남동 국밥집**  \\n   대표 음식: 설렁탕, 곰탕  \\n   국밥 전문점으로, 깊고 진한 국물의 설렁탕과 곰탕을 맛볼 수 있습니다. 전통적인 한국의 국밥 문화를 경험하고 싶다면 추천합니다.\\n\\n5. **마포 갈매기**  \\n   대표 음식: 갈매기살  \\n   갈매기살 구이를 전문으로 하는 레스토랑으로, 신선한 채소와 함께 고기를 구워 맛볼 수 있습니다. 삼겹살과는 또 다른 매력이 있는 갈매기살을 방문해보세요.\\n\\n각 레스토랑은 고유의 매력을 가지고 있어 서울의 맛을 즐길 수 있는 좋은 선택이 될 것입니다.', additional_kwargs={'refusal': None}, response_metadata={'token_usage': {'completion_tokens': 403, 'prompt_tokens': 27, 'total_tokens': 430, 'completion_tokens_details': {'accepted_prediction_tokens': 0, 'audio_tokens': 0, 'reasoning_tokens': 0, 'rejected_prediction_tokens': 0}, 'prompt_tokens_details': {'audio_tokens': 0, 'cached_tokens': 0}}, 'model_name': 'gpt-4o-mini-2024-07-18', 'system_fingerprint': 'fp_8bda4d3a2c', 'id': 'chatcmpl-CDL9dhi3YUgvpX6mFS09uTur7u6dW', 'service_tier': 'default', 'finish_reason': 'stop', 'logprobs': None}, id='run--2017a47b-45c8-43b1-80f8-3da6eeb9d92e-0', usage_metadata={'input_tokens': 27, 'output_tokens': 403, 'total_tokens': 430, 'input_token_details': {'audio': 0, 'cache_read': 0}, 'output_token_details': {'audio': 0, 'reasoning': 0}})"
      ]
     },
     "execution_count": 8,
     "metadata": {},
     "output_type": "execute_result"
    }
   ],
   "source": [
    "from langchain_core.messages import HumanMessage \n",
    "messages=[\n",
    "    HumanMessage(content='서울을 대표하는 음식을 맛볼 수 있는 레스토랑 5개를 추천해 주세요')\n",
    "]\n",
    "response = llm.invoke(messages)\n",
    "response\n"
   ]
  },
  {
   "cell_type": "markdown",
   "id": "159160cb",
   "metadata": {},
   "source": [
    "# caching\n",
    "1. inmemorycache\n",
    "2. cache db"
   ]
  },
  {
   "cell_type": "code",
   "execution_count": 9,
   "id": "3b821f5d",
   "metadata": {},
   "outputs": [],
   "source": [
    "from langchain_core.globals import set_llm_cache\n",
    "from langchain_core.caches import InMemoryCache\n",
    "\n",
    "set_llm_cache(InMemoryCache())"
   ]
  },
  {
   "cell_type": "code",
   "execution_count": 11,
   "id": "0570fecb",
   "metadata": {},
   "outputs": [
    {
     "data": {
      "text/plain": [
       "AIMessage(content='서울에서 대표적인 음식을 맛볼 수 있는 레스토랑 5곳을 추천해드릴게요.\\n\\n1. **광화문 미진** - 전통 한식 중 유명한 \"비빔밥\"을 맛볼 수 있는 곳입니다. 신선한 재료와 정성 가득한 반찬이 함께 제공되어, 전통적인 한식의 매력을 느낄 수 있습니다.\\n\\n2. **진주집** - 서울에서 유명한 \"곰탕\"집으로, 깊고 진한 국물 맛이 일품입니다. 고기의 질이 좋고, 깔끔하게 나온 국물에 만족할 수 있습니다.\\n\\n3. **강남면옥** - 서울의 대표적인 \"냉면\" 전문점입니다. 시원하고 쫄깃한 면발과 상큼한 육수가 조화를 이루어 더운 여름철에 특히 인기입니다.\\n\\n4. **올드서울칼국수** - 정통 한국의 \"칼국수\"를 즐길 수 있는 곳으로, handmade 면과 진한 국물이 특징입니다. 다양한 반찬과 함께 제공되어 누구에게나 인기 있는 메뉴입니다.\\n\\n5. **북촌손만두** - 서울의 전통 만두를 대표하는 곳 중 하나로, 속이 꽉 찬 만두와 함께 다양한 한식 메뉴를 제공합니다. 특히 \"김치만두\"와 \"물만두\"가 추천됩니다.\\n\\n이 레스토랑들은 서울의 전통 음식을 즐기기에 좋은 장소들입니다. 각기 다른 매력을 가진 음식들을 경험해보세요!', additional_kwargs={'refusal': None}, response_metadata={'token_usage': {'completion_tokens': 336, 'prompt_tokens': 27, 'total_tokens': 363, 'completion_tokens_details': {'accepted_prediction_tokens': 0, 'audio_tokens': 0, 'reasoning_tokens': 0, 'rejected_prediction_tokens': 0}, 'prompt_tokens_details': {'audio_tokens': 0, 'cached_tokens': 0}}, 'model_name': 'gpt-4o-mini-2024-07-18', 'system_fingerprint': 'fp_8bda4d3a2c', 'id': 'chatcmpl-CDL9thm1eo6ToBU4Uscp8WBsumrLi', 'service_tier': 'default', 'finish_reason': 'stop', 'logprobs': None}, id='run--5049efbb-2d87-4b09-95f5-b0dc231c6319-0', usage_metadata={'input_tokens': 27, 'output_tokens': 336, 'total_tokens': 363, 'input_token_details': {'audio': 0, 'cache_read': 0}, 'output_token_details': {'audio': 0, 'reasoning': 0}, 'total_cost': 0})"
      ]
     },
     "execution_count": 11,
     "metadata": {},
     "output_type": "execute_result"
    }
   ],
   "source": [
    "response = llm.invoke(messages) # 1st 5.8s\n",
    "response"
   ]
  },
  {
   "cell_type": "code",
   "execution_count": 12,
   "id": "01a44e35",
   "metadata": {},
   "outputs": [
    {
     "data": {
      "text/plain": [
       "ChatOpenAI(cache=False, client=<openai.resources.chat.completions.completions.Completions object at 0x0000023DE2BC7A70>, async_client=<openai.resources.chat.completions.completions.AsyncCompletions object at 0x0000023DE2BB52B0>, root_client=<openai.OpenAI object at 0x0000023DE2BB5220>, root_async_client=<openai.AsyncOpenAI object at 0x0000023DE2A79CA0>, model_name='gpt-4o-mini', model_kwargs={}, openai_api_key=SecretStr('**********'))"
      ]
     },
     "execution_count": 12,
     "metadata": {},
     "output_type": "execute_result"
    }
   ],
   "source": [
    "# cache 디폴트 -> cache 끄기\n",
    "llm = ChatOpenAI(model=\"gpt-4o-mini\", cache =False)\n",
    "llm"
   ]
  },
  {
   "cell_type": "code",
   "execution_count": null,
   "id": "308db4e3",
   "metadata": {},
   "outputs": [],
   "source": [
    "# message가 동일해야 한다. 처음 실행시 캐싱한다."
   ]
  },
  {
   "cell_type": "markdown",
   "id": "1b8ac25c",
   "metadata": {},
   "source": [
    "# redis"
   ]
  },
  {
   "cell_type": "code",
   "execution_count": 3,
   "id": "bfc07565",
   "metadata": {},
   "outputs": [
    {
     "name": "stdout",
     "output_type": "stream",
     "text": [
      "bar\n"
     ]
    }
   ],
   "source": [
    "\"\"\"Basic connection example.\n",
    "\"\"\"\n",
    "import os\n",
    "import redis\n",
    "from dotenv import load_dotenv\n",
    "\n",
    "load_dotenv() \n",
    "REDIS_HOST = os.getenv(\"REDIS_HOST\")\n",
    "REDIS_PORT = os.getenv(\"REDIS_PORT\")\n",
    "REDIS_USERNAME = os.getenv(\"REDIS_USERNAME\")\n",
    "REDIS_PASSWORD = os.getenv(\"REDIS_PASSWORD\")\n",
    "r = redis.Redis(\n",
    "    host=REDIS_HOST,\n",
    "    port=int(REDIS_PORT),  # 환경 변수는 문자열이므로 int로 변환\n",
    "    decode_responses=True,\n",
    "    username=REDIS_USERNAME,\n",
    "    password=REDIS_PASSWORD,\n",
    ")\n",
    "\n",
    "success = r.set('foo', 'bar')\n",
    "# True\n",
    "\n",
    "result = r.get('foo')\n",
    "print(result)\n",
    "# >>> bar\n",
    "\n"
   ]
  },
  {
   "cell_type": "code",
   "execution_count": 4,
   "id": "72c242ad",
   "metadata": {},
   "outputs": [
    {
     "ename": "NameError",
     "evalue": "name 'set_llm_cache' is not defined",
     "output_type": "error",
     "traceback": [
      "\u001b[31m---------------------------------------------------------------------------\u001b[39m",
      "\u001b[31mNameError\u001b[39m                                 Traceback (most recent call last)",
      "\u001b[36mCell\u001b[39m\u001b[36m \u001b[39m\u001b[32mIn[4]\u001b[39m\u001b[32m, line 8\u001b[39m\n\u001b[32m      5\u001b[39m \u001b[38;5;28;01mfrom\u001b[39;00m\u001b[38;5;250m \u001b[39m\u001b[34;01mdotenv\u001b[39;00m\u001b[38;5;250m \u001b[39m\u001b[38;5;28;01mimport\u001b[39;00m load_dotenv\n\u001b[32m      7\u001b[39m load_dotenv() \n\u001b[32m----> \u001b[39m\u001b[32m8\u001b[39m \u001b[43mset_llm_cache\u001b[49m( RedisCache(\n\u001b[32m      9\u001b[39m     redis_=Redis(\n\u001b[32m     10\u001b[39m         host=REDIS_HOST,\n\u001b[32m     11\u001b[39m         port=\u001b[38;5;28mint\u001b[39m(REDIS_PORT),  \u001b[38;5;66;03m# 환경 변수는 문자열이므로 int로 변환\u001b[39;00m\n\u001b[32m     12\u001b[39m         username=REDIS_USERNAME,\n\u001b[32m     13\u001b[39m         password=REDIS_PASSWORD,\n\u001b[32m     14\u001b[39m     )\n\u001b[32m     15\u001b[39m ))\n",
      "\u001b[31mNameError\u001b[39m: name 'set_llm_cache' is not defined"
     ]
    }
   ],
   "source": [
    "# redis\n",
    "from langchain_community.cache import RedisCache\n",
    "from redis import Redis\n",
    "import os\n",
    "from dotenv import load_dotenv\n",
    "\n",
    "load_dotenv() \n",
    "set_llm_cache( RedisCache(\n",
    "    redis_=Redis(\n",
    "        host=REDIS_HOST,\n",
    "        port=int(REDIS_PORT),  # 환경 변수는 문자열이므로 int로 변환\n",
    "        username=REDIS_USERNAME,\n",
    "        password=REDIS_PASSWORD,\n",
    "    )\n",
    "))"
   ]
  },
  {
   "cell_type": "code",
   "execution_count": 30,
   "id": "e4fc67f0",
   "metadata": {},
   "outputs": [],
   "source": [
    "response = llm.invoke(messages) # 1st 5.8s"
   ]
  },
  {
   "cell_type": "code",
   "execution_count": null,
   "id": "dc613359",
   "metadata": {},
   "outputs": [],
   "source": [
    "# prompt templet"
   ]
  },
  {
   "cell_type": "code",
   "execution_count": null,
   "id": "d13f1a5c",
   "metadata": {},
   "outputs": [],
   "source": []
  },
  {
   "cell_type": "code",
   "execution_count": null,
   "id": "495a5af4",
   "metadata": {},
   "outputs": [],
   "source": []
  },
  {
   "cell_type": "code",
   "execution_count": null,
   "id": "93368f4d",
   "metadata": {},
   "outputs": [],
   "source": []
  },
  {
   "cell_type": "code",
   "execution_count": null,
   "id": "ba3d1f38",
   "metadata": {},
   "outputs": [],
   "source": []
  },
  {
   "cell_type": "code",
   "execution_count": null,
   "id": "ca7230e0",
   "metadata": {},
   "outputs": [],
   "source": []
  },
  {
   "cell_type": "code",
   "execution_count": null,
   "id": "538f26e1",
   "metadata": {},
   "outputs": [],
   "source": []
  }
 ],
 "metadata": {
  "kernelspec": {
   "display_name": "prompting_env",
   "language": "python",
   "name": "python3"
  },
  "language_info": {
   "codemirror_mode": {
    "name": "ipython",
    "version": 3
   },
   "file_extension": ".py",
   "mimetype": "text/x-python",
   "name": "python",
   "nbconvert_exporter": "python",
   "pygments_lexer": "ipython3",
   "version": "3.12.11"
  }
 },
 "nbformat": 4,
 "nbformat_minor": 5
}
