{
 "cells": [
  {
   "cell_type": "code",
   "execution_count": null,
   "id": "dc56008d",
   "metadata": {},
   "outputs": [],
   "source": [
    "# AI 와인 페르소나"
   ]
  },
  {
   "cell_type": "code",
   "execution_count": 4,
   "id": "103a9774",
   "metadata": {},
   "outputs": [],
   "source": [
    "from openai import OpenAI\n",
    "client = OpenAI()\n",
    "\n",
    "response = client.chat.completions.create(\n",
    "  model=\"gpt-4o\",\n",
    "  messages=[\n",
    "    {\n",
    "      \"role\": \"system\",\n",
    "      \"content\": [\n",
    "        {\n",
    "          \"type\": \"text\",\n",
    "          \"text\": \"You are an expert sommelier with extensive knowledge in wine, wine pairing, and \\nthe intricacies of food and beverage service. Your primary role is to assist users \\nin selecting the best wines and pairing them perfectly with meals. You have a deep \\nunderstanding of various wine regions, grape varieties, wine production methods, and \\ncurrent trends in the industry. You possess a refined palate, able to discern subtle \\nflavors and characteristics in wines. Your advice is always clear, approachable, and \\ntailored to each user’s preferences and specific dining context. You also educate users \\non wine appreciation, proper wine service, and the art of creating a harmonious dining \\nexperience. Your demeanor is professional, courteous, and passionate about wine culture, \\naiming to make each wine selection and pairing a memorable experience for users.\"\n",
    "        }\n",
    "      ]\n",
    "    },\n",
    "    {\n",
    "      \"role\": \"user\",\n",
    "      \"content\": [\n",
    "        {\n",
    "          \"type\": \"text\",\n",
    "          \"text\": \"이 와인에 어울리는 요리에는 어떤 것들이 있을까요?\"\n",
    "        },\n",
    "        {\n",
    "          \"type\": \"image_url\",\n",
    "          \"image_url\": {\n",
    "            \"url\": \"https://images.vivino.com/thumbs/Z90I3--JRKWlpMA8wdLY-Q_pb_x600.png\"\n",
    "          }\n",
    "        }\n",
    "      ]\n",
    "    },\n",
    "  ],\n",
    "  response_format={\n",
    "    \"type\": \"text\"\n",
    "  },\n",
    "  temperature=1,\n",
    "  max_completion_tokens=2048,\n",
    "  top_p=1,\n",
    "  frequency_penalty=0,\n",
    "  presence_penalty=0\n",
    ")"
   ]
  },
  {
   "cell_type": "code",
   "execution_count": 5,
   "id": "c2bd8af6",
   "metadata": {},
   "outputs": [
    {
     "data": {
      "text/plain": [
       "[Choice(finish_reason='stop', index=0, logprobs=None, message=ChatCompletionMessage(content='Primitivo는 과일 향이 풍부하고 탄닌이 부드러운 풀바디 레드 와인입니다. 이 와인에 어울리는 요리는 다음과 같습니다:\\n\\n1. **바비큐 요리**: 소고기나 돼지고기 바비큐가 Primitivo의 과일 향과 잘 어울립니다.\\n   \\n2. **토마토 소스 파스타**: 토마토 베이스의 파스타 또는 라자냐는 와인의 산미와 조화를 이룹니다.\\n   \\n3. **그릴드 스테이크**: 풍부한 육즙이 Primitivo의 풀바디한 특성과 잘 맞습니다.\\n   \\n4. **치즈 플래터**: 특히 에담이나 고다 같은 고소한 반경성 치즈와 잘 어울립니다.\\n   \\n5. **매콤한 요리**: 살짝 매콤한 이탈리아 소시지나 스파이시한 요리들이 어울릴 수 있습니다.\\n\\n이러한 요리들은 Primitivo의 풍미를 더욱 돋보이게 하며, 식사 경험을 풍성하게 만듭니다.', refusal=None, role='assistant', annotations=[], audio=None, function_call=None, tool_calls=None))]"
      ]
     },
     "execution_count": 5,
     "metadata": {},
     "output_type": "execute_result"
    }
   ],
   "source": [
    "response.choices"
   ]
  },
  {
   "cell_type": "code",
   "execution_count": 6,
   "id": "8f903bf9",
   "metadata": {},
   "outputs": [
    {
     "name": "stdout",
     "output_type": "stream",
     "text": [
      "Primitivo는 과일 향이 풍부하고 탄닌이 부드러운 풀바디 레드 와인입니다. 이 와인에 어울리는 요리는 다음과 같습니다:\n",
      "\n",
      "1. **바비큐 요리**: 소고기나 돼지고기 바비큐가 Primitivo의 과일 향과 잘 어울립니다.\n",
      "   \n",
      "2. **토마토 소스 파스타**: 토마토 베이스의 파스타 또는 라자냐는 와인의 산미와 조화를 이룹니다.\n",
      "   \n",
      "3. **그릴드 스테이크**: 풍부한 육즙이 Primitivo의 풀바디한 특성과 잘 맞습니다.\n",
      "   \n",
      "4. **치즈 플래터**: 특히 에담이나 고다 같은 고소한 반경성 치즈와 잘 어울립니다.\n",
      "   \n",
      "5. **매콤한 요리**: 살짝 매콤한 이탈리아 소시지나 스파이시한 요리들이 어울릴 수 있습니다.\n",
      "\n",
      "이러한 요리들은 Primitivo의 풍미를 더욱 돋보이게 하며, 식사 경험을 풍성하게 만듭니다.\n"
     ]
    }
   ],
   "source": [
    "print(\"\".join([choice.message.content for choice in response.choices]))"
   ]
  },
  {
   "cell_type": "code",
   "execution_count": null,
   "id": "f231e66f",
   "metadata": {},
   "outputs": [],
   "source": [
    "from openai import OpenAI\n",
    "\n",
    "def recommend_dishes(query):\n",
    "    client = OpenAI()\n",
    "\n",
    "    response = client.chat.completions.create(\n",
    "    model=\"gpt-4o\",\n",
    "    messages=[\n",
    "        {\n",
    "        \"role\": \"system\",\n",
    "        \"content\": [\n",
    "            {\n",
    "            \"type\": \"text\",\n",
    "            \"text\": \"You are an expert sommelier with extensive knowledge in wine, wine pairing, and \\nthe intricacies of food and beverage service. Your primary role is to assist users \\nin selecting the best wines and pairing them perfectly with meals. You have a deep \\nunderstanding of various wine regions, grape varieties, wine production methods, and \\ncurrent trends in the industry. You possess a refined palate, able to discern subtle \\nflavors and characteristics in wines. Your advice is always clear, approachable, and \\ntailored to each user’s preferences and specific dining context. You also educate users \\non wine appreciation, proper wine service, and the art of creating a harmonious dining \\nexperience. Your demeanor is professional, courteous, and passionate about wine culture, \\naiming to make each wine selection and pairing a memorable experience for users.\"\n",
    "            }\n",
    "        ]\n",
    "        },\n",
    "        {\n",
    "        \"role\": \"user\",\n",
    "        \"content\": [\n",
    "            {\n",
    "            \"type\": \"text\",\n",
    "            \"text\": query.get('text')\n",
    "            },\n",
    "            { \n",
    "            \"type\": \"image_url\",\n",
    "            \"image_url\": {\n",
    "                \n",
    "                \"url\": query.get('image_url')\n",
    "                }\n",
    "            }\n",
    "        ]\n",
    "        },\n",
    "    ],\n",
    "    temperature=1,\n",
    "    max_completion_tokens=2048,\n",
    "    top_p=1,\n",
    "    frequency_penalty=0,\n",
    "    presence_penalty=0\n",
    "    )\n",
    "    return \"\".join([choice.message.content for choice in response.choices])"
   ]
  },
  {
   "cell_type": "code",
   "execution_count": 9,
   "id": "1dfe5682",
   "metadata": {},
   "outputs": [
    {
     "data": {
      "text/plain": [
       "'이 와인은 프리미티보 품종의 와인으로, 풍부하고 과일 향이 특징적입니다. 프리미티보 와인에 잘 어울리는 요리는 다음과 같습니다:\\n\\n1. **그릴드 스테이크**: 풍부한 타닌과 어우러져 육즙이 많은 스테이크의 풍미를 잘 보완합니다.\\n2. **바베큐 요리**: 소스가 진한 바베큐의 맛을 강조해줍니다.\\n3. **라구 파스타**: 토마토 베이스의 진한 소스와 잘 어울립니다.\\n4. **양고기**: 허브와 양념을 가미한 양고기 요리와 궁합이 좋습니다.\\n5. **피자**: 특히 살시챠나 페퍼로니가 올라간 피자와 좋은 조화를 이룹니다.\\n\\n이 와인은 풍성한 맛을 가지고 있어 다양한 요리와 잘 어우러질 수 있습니다. 즐거운 식사 되시길 바랍니다!'"
      ]
     },
     "execution_count": 9,
     "metadata": {},
     "output_type": "execute_result"
    }
   ],
   "source": [
    "query = {'text':'이 와인에 어울리는 요리에는 어던 것들이 있을까요?',\n",
    "         'image_url':'https://images.vivino.com/thumbs/Z90I3--JRKWlpMA8wdLY-Q_pb_x600.png'}\n",
    "response = recommend_dishes(query)\n",
    "response"
   ]
  },
  {
   "cell_type": "markdown",
   "id": "b20d29a4",
   "metadata": {},
   "source": [
    "# 랭체인"
   ]
  },
  {
   "cell_type": "code",
   "execution_count": null,
   "id": "b9031eb8",
   "metadata": {},
   "outputs": [],
   "source": [
    "from langchain.chat_models import ChatOpenAI\n",
    "from langchain.schema import SystemMessage, HumanMessage\n",
    "\n",
    "def recommend_dishes_lc(query):\n",
    "    \"\"\"\n",
    "    query: dict\n",
    "        {\n",
    "            \"text\": \"저녁에 스테이크 먹을건데 와인 추천해줘\",\n",
    "            \"image_url\": \"https://example.com/steak.jpg\"\n",
    "        }\n",
    "    \"\"\"\n",
    "    # LangChain ChatOpenAI 객체 생성\n",
    "    chat = ChatOpenAI(\n",
    "        model_name=\"gpt-4o\",\n",
    "        temperature=1,\n",
    "        max_tokens=2048\n",
    "    )\n",
    "\n",
    "    # 시스템 메시지: 역할 정의\n",
    "    system_message = SystemMessage(\n",
    "        content=(\n",
    "            \"You are an expert sommelier with extensive knowledge in wine, wine pairing, \"\n",
    "            \"and the intricacies of food and beverage service. Your advice is always clear, \"\n",
    "            \"approachable, and tailored to each user’s context.\"\n",
    "        )\n",
    "    )\n",
    "\n",
    "    # 사용자 메시지: 텍스트 + 이미지 URL\n",
    "    # GPT-4o 멀티모달 입력 형식은 OpenAI SDK 내부에서 처리됨\n",
    "    human_message = HumanMessage(\n",
    "        content={\n",
    "            \"type\": \"multimodal\",\n",
    "            \"text\": query.get(\"text\"),\n",
    "            \"image_url\": query.get(\"image_url\")\n",
    "        }\n",
    "    )\n",
    "\n",
    "    # 모델 호출\n",
    "    response = chat([system_message, human_message])\n",
    "\n",
    "    return response.content\n",
    "\n",
    "# 사용 예시\n",
    "if __name__ == \"__main__\":\n",
    "    query = {\n",
    "        \"text\": \"이 와인에 어울리는 요리에는 어던 것들이 있을까요?\",\n",
    "        \"image_url\": \"https://images.vivino.com/thumbs/Z90I3--JRKWlpMA8wdLY-Q_pb_x600.png\"\n",
    "    }\n",
    "    print(recommend_dishes_lc(query))\n"
   ]
  },
  {
   "cell_type": "code",
   "execution_count": null,
   "id": "0ab9a8f9",
   "metadata": {},
   "outputs": [],
   "source": []
  },
  {
   "cell_type": "code",
   "execution_count": null,
   "id": "fa952d1c",
   "metadata": {},
   "outputs": [],
   "source": []
  },
  {
   "cell_type": "code",
   "execution_count": null,
   "id": "ef1a39d5",
   "metadata": {},
   "outputs": [],
   "source": []
  },
  {
   "cell_type": "code",
   "execution_count": null,
   "id": "e00adfdb",
   "metadata": {},
   "outputs": [],
   "source": []
  },
  {
   "cell_type": "code",
   "execution_count": null,
   "id": "b36dce3a",
   "metadata": {},
   "outputs": [],
   "source": []
  },
  {
   "cell_type": "code",
   "execution_count": null,
   "id": "ef11eb4a",
   "metadata": {},
   "outputs": [],
   "source": []
  },
  {
   "cell_type": "code",
   "execution_count": null,
   "id": "0e530a0c",
   "metadata": {},
   "outputs": [],
   "source": []
  },
  {
   "cell_type": "code",
   "execution_count": null,
   "id": "a19cdcfc",
   "metadata": {},
   "outputs": [],
   "source": []
  },
  {
   "cell_type": "code",
   "execution_count": null,
   "id": "9df2fbe2",
   "metadata": {},
   "outputs": [],
   "source": []
  },
  {
   "cell_type": "code",
   "execution_count": null,
   "id": "c1d52160",
   "metadata": {},
   "outputs": [],
   "source": []
  },
  {
   "cell_type": "code",
   "execution_count": null,
   "id": "0a982b20",
   "metadata": {},
   "outputs": [],
   "source": []
  },
  {
   "cell_type": "code",
   "execution_count": null,
   "id": "c71c0abc",
   "metadata": {},
   "outputs": [],
   "source": []
  }
 ],
 "metadata": {
  "kernelspec": {
   "display_name": "prompting_env",
   "language": "python",
   "name": "python3"
  },
  "language_info": {
   "codemirror_mode": {
    "name": "ipython",
    "version": 3
   },
   "file_extension": ".py",
   "mimetype": "text/x-python",
   "name": "python",
   "nbconvert_exporter": "python",
   "pygments_lexer": "ipython3",
   "version": "3.12.11"
  }
 },
 "nbformat": 4,
 "nbformat_minor": 5
}
