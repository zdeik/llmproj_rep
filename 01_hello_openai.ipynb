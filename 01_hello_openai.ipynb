{
 "cells": [
  {
   "cell_type": "code",
   "execution_count": 3,
   "id": "0406bbfe",
   "metadata": {},
   "outputs": [],
   "source": [
    "from dotenv import load_dotenv\n",
    "import os"
   ]
  },
  {
   "cell_type": "code",
   "execution_count": 7,
   "id": "44aad39e",
   "metadata": {},
   "outputs": [
    {
     "name": "stdout",
     "output_type": "stream",
     "text": [
      "API Key configured: True\n"
     ]
    }
   ],
   "source": [
    "load_dotenv()\n",
    "openai_api_key = os.getenv('OPENAI_API_KEY')\n",
    "print(\"API Key configured:\", \"OPENAI_API_KEY\" in os.environ)"
   ]
  },
  {
   "cell_type": "code",
   "execution_count": 8,
   "id": "262d2ed1",
   "metadata": {},
   "outputs": [
    {
     "data": {
      "text/plain": [
       "'1.100.1'"
      ]
     },
     "execution_count": 8,
     "metadata": {},
     "output_type": "execute_result"
    }
   ],
   "source": [
    "import openai\n",
    "openai.__version__"
   ]
  },
  {
   "cell_type": "code",
   "execution_count": 9,
   "id": "64be770c",
   "metadata": {},
   "outputs": [],
   "source": [
    "from openai import OpenAI\n",
    "client = OpenAI()\n",
    "\n",
    "response = client.responses.create(\n",
    "  model=\"gpt-4o-mini\",\n",
    "  input=[\n",
    "    {\n",
    "      \"role\": \"system\",\n",
    "      \"content\": [\n",
    "        {\n",
    "          \"type\": \"input_text\",\n",
    "          \"text\": \"답변을 할 때 항상 세부 목록을 만들어서 제공해줘\"\n",
    "        }\n",
    "      ]\n",
    "    },\n",
    "    {\n",
    "      \"role\": \"user\",\n",
    "      \"content\": [\n",
    "        {\n",
    "          \"type\": \"input_text\",\n",
    "          \"text\": \"하늘은\"\n",
    "        }\n",
    "      ]\n",
    "    },\n",
    "    {\n",
    "      \"id\": \"msg_68a7c6008e18819dba2da7ce65746a1f0ae377fa1b243d9b\",\n",
    "      \"role\": \"assistant\",\n",
    "      \"content\": [\n",
    "        {\n",
    "          \"type\": \"output_text\",\n",
    "          \"text\": \"\\\"하늘은\\\"에 관한 주제를 세부적으로 정리해드릴게요.\\n\\n### 1. 하늘의 정의\\n   - 지구의 대기\\n   - 우주와의 경계\\n\\n### 2. 하늘의 색상 변화\\n   - 낮의 파란 하늘\\n   - 저녁 노을\\n   - 밤의 별빛\\n\\n### 3. 하늘의 구성 요소\\n   - 구름\\n   - 태양\\n   - 달\\n   - 별\\n\\n### 4. 하늘의 역할\\n   - 기후 조절\\n   - 생태계의 유지\\n   - 항공 및 우주 탐사\\n\\n### 5. 하늘과 문화\\n   - 신화와 전설\\n   - 예술에서의 표현\\n   - 시와 문학 속의 하늘\\n\\n### 6. 현대의 하늘 관측\\n   - 천문학\\n   - 기상 관측\\n   - 항공 관제\\n\\n더 알고 싶은 부분이 있으면 말씀해 주세요!\"\n",
    "        }\n",
    "      ]\n",
    "    }\n",
    "  ],\n",
    "  text={\n",
    "    \"format\": {\n",
    "      \"type\": \"text\"\n",
    "    }\n",
    "  },\n",
    "  reasoning={},\n",
    "  tools=[],\n",
    "  temperature=1,\n",
    "  max_output_tokens=10000,\n",
    "  top_p=1,\n",
    "  store=True\n",
    ")"
   ]
  },
  {
   "cell_type": "code",
   "execution_count": 10,
   "id": "f3f6ace3",
   "metadata": {},
   "outputs": [
    {
     "data": {
      "text/plain": [
       "Response(id='resp_68a7c6917bb0819d893076c0abaaaa1d0ae377fa1b243d9b', created_at=1755825809.0, error=None, incomplete_details=None, instructions=None, metadata={}, model='gpt-4o-mini-2024-07-18', object='response', output=[ResponseOutputMessage(id='msg_68a7c691e6b8819db269a3d536ae9ef20ae377fa1b243d9b', content=[ResponseOutputText(annotations=[], text='\"하늘은\"에 관한 주제를 세부적으로 정리해드릴게요.\\n\\n### 1. 하늘의 정의\\n   - 지구의 대기\\n   - 우주와의 경계\\n\\n### 2. 하늘의 색상 변화\\n   - 낮의 파란 하늘\\n   - 저녁 노을\\n   - 밤의 별빛\\n\\n### 3. 하늘의 구성 요소\\n   - 구름\\n   - 태양\\n   - 달\\n   - 별\\n\\n### 4. 하늘의 역할\\n   - 기후 조절\\n   - 생태계의 유지\\n   - 항공 및 우주 탐사\\n\\n### 5. 하늘과 문화\\n   - 신화와 전설\\n   - 예술에서의 표현\\n   - 시와 문학 속의 하늘\\n\\n### 6. 현대의 하늘 관측\\n   - 천문학\\n   - 기상 관측\\n   - 항공 관제\\n\\n더 알고 싶은 부분이 있으면 말씀해 주세요!', type='output_text', logprobs=[])], role='assistant', status='completed', type='message')], parallel_tool_calls=True, temperature=1.0, tool_choice='auto', tools=[], top_p=1.0, background=False, max_output_tokens=10000, max_tool_calls=None, previous_response_id=None, prompt=None, prompt_cache_key=None, reasoning=Reasoning(effort=None, generate_summary=None, summary=None), safety_identifier=None, service_tier='default', status='completed', text=Text(format=ResponseFormatText(type='text'), verbosity='medium'), top_logprobs=0, truncation='disabled', usage=ResponseUsage(input_tokens=253, input_tokens_details=InputTokensDetails(cached_tokens=0), output_tokens=221, output_tokens_details=OutputTokensDetails(reasoning_tokens=0), total_tokens=474), user=None, store=True)"
      ]
     },
     "execution_count": 10,
     "metadata": {},
     "output_type": "execute_result"
    }
   ],
   "source": [
    "response"
   ]
  },
  {
   "cell_type": "code",
   "execution_count": 14,
   "id": "cbbae5a9",
   "metadata": {},
   "outputs": [
    {
     "data": {
      "text/plain": [
       "'\"하늘은\"에 관한 주제를 세부적으로 정리해드릴게요.\\n\\n### 1. 하늘의 정의\\n   - 지구의 대기\\n   - 우주와의 경계\\n\\n### 2. 하늘의 색상 변화\\n   - 낮의 파란 하늘\\n   - 저녁 노을\\n   - 밤의 별빛\\n\\n### 3. 하늘의 구성 요소\\n   - 구름\\n   - 태양\\n   - 달\\n   - 별\\n\\n### 4. 하늘의 역할\\n   - 기후 조절\\n   - 생태계의 유지\\n   - 항공 및 우주 탐사\\n\\n### 5. 하늘과 문화\\n   - 신화와 전설\\n   - 예술에서의 표현\\n   - 시와 문학 속의 하늘\\n\\n### 6. 현대의 하늘 관측\\n   - 천문학\\n   - 기상 관측\\n   - 항공 관제\\n\\n더 알고 싶은 부분이 있으면 말씀해 주세요!'"
      ]
     },
     "execution_count": 14,
     "metadata": {},
     "output_type": "execute_result"
    }
   ],
   "source": [
    "response.output[0].content[0].text"
   ]
  },
  {
   "cell_type": "markdown",
   "id": "1000d23c",
   "metadata": {},
   "source": [
    "# chat completion api"
   ]
  },
  {
   "cell_type": "code",
   "execution_count": 15,
   "id": "ee78d5dc",
   "metadata": {},
   "outputs": [],
   "source": [
    "from openai import OpenAI\n",
    "client = OpenAI()\n",
    "\n",
    "response = client.chat.completions.create(\n",
    "  model=\"gpt-4o-mini\",\n",
    "  messages=[\n",
    "    {\n",
    "      \"role\": \"system\",\n",
    "      \"content\": [\n",
    "        {\n",
    "          \"type\": \"text\",\n",
    "          \"text\": \"답변을 할 때 항상 세부 목록을 만들어서 제공해줘\"\n",
    "        }\n",
    "      ]\n",
    "    },\n",
    "    {\n",
    "      \"role\": \"user\",\n",
    "      \"content\": [\n",
    "        {\n",
    "          \"type\": \"text\",\n",
    "          \"text\": \"하늘은\"\n",
    "        }\n",
    "      ]\n",
    "    },\n",
    "    {\n",
    "      \"role\": \"assistant\",\n",
    "      \"content\": [\n",
    "        {\n",
    "          \"type\": \"text\",\n",
    "          \"text\": \"\\\"하늘은\\\"에 관한 주제를 세부적으로 정리해드릴게요.\\n\\n### 1. 하늘의 정의\\n   - 지구의 대기\\n   - 우주와의 경계\\n\\n### 2. 하늘의 색상 변화\\n   - 낮의 파란 하늘\\n   - 저녁 노을\\n   - 밤의 별빛\\n\\n### 3. 하늘의 구성 요소\\n   - 구름\\n   - 태양\\n   - 달\\n   - 별\\n\\n### 4. 하늘의 역할\\n   - 기후 조절\\n   - 생태계의 유지\\n   - 항공 및 우주 탐사\\n\\n### 5. 하늘과 문화\\n   - 신화와 전설\\n   - 예술에서의 표현\\n   - 시와 문학 속의 하늘\\n\\n### 6. 현대의 하늘 관측\\n   - 천문학\\n   - 기상 관측\\n   - 항공 관제\\n\\n더 알고 싶은 부분이 있으면 말씀해 주세요!\"\n",
    "        }\n",
    "      ]\n",
    "    }\n",
    "  ],\n",
    "  response_format={\n",
    "    \"type\": \"text\"\n",
    "  },\n",
    "  temperature=1,\n",
    "  max_completion_tokens=10000,\n",
    "  top_p=1,\n",
    "  frequency_penalty=0,\n",
    "  presence_penalty=0\n",
    ")"
   ]
  },
  {
   "cell_type": "code",
   "execution_count": 18,
   "id": "ffd495b6",
   "metadata": {},
   "outputs": [
    {
     "data": {
      "text/plain": [
       "'\"하늘은\"에 관하여 추가적인 세부 주제를 제시해드릴게요.\\n\\n### 1. 하늘의 정의\\n   - **대기의 범위**: 지구를 둘러싸고 있는 공기층.\\n   - **우주와의 경계**: 대기의 끝은 우주와 연결되는 경계선.\\n\\n### 2. 하늘의 색상 변화\\n   - **낮의 파란 하늘**: 대기 중의 빛 산란.\\n   - **저녁 노을**: 여러 색상의 혼합 (주황, 핑크, 보라색).\\n   - **밤의 별빛**: 별, 행성, 달의 관찰.\\n\\n### 3. 하늘의 구성 요소\\n   - **구름의 종류**: 스트레이트, 누적구름, 고기압 구름 등.\\n   - **태양의 역할**: 광원과 에너지원.\\n   - **달의 영향**: 조수의 변화, 달의 주기.\\n   - **별의 분포**: 메시코스, 성단, 은하.\\n\\n### 4. 하늘의 역할\\n   - **기후 조절**: 기온, 강수량, 바람의 흐름 조절.\\n   - **생태계의 유지**: 대기와 생물체의 상호작용.\\n   - **항공 및 우주 탐사**: 비행기, 로켓 등의 비행 경로와 임무.\\n\\n### 5. 하늘과 문화\\n   - **신화와 전설**: 하늘 신, 별자리 이야기.\\n   - **예술에서의 표현**: 그림, 사진, 음악 등.\\n   - **시와 문학 속의 하늘**: 영감의 원천, 감정 표현.\\n\\n### 6. 현대의 하늘 관측\\n   - **천문학**: 별, 행성, 우주 탐사.\\n   - **기상 관측**: 날씨 예보 및 연구.\\n   - **항공 관제**: 비행기 안전 운항을 위한 관리.\\n\\n### 7. 하늘의 변화\\n   - **계절의 변화**: 계절에 따른 하늘의 색과 구름 변화.\\n   - **인간의 영향**: 대기 오염, 기후 변화.\\n\\n추가적인 질문이나 더 알고 싶은 부분이 있다면 언제든지 말씀해 주세요!'"
      ]
     },
     "execution_count": 18,
     "metadata": {},
     "output_type": "execute_result"
    }
   ],
   "source": [
    "response.choices[0].message.content"
   ]
  }
 ],
 "metadata": {
  "kernelspec": {
   "display_name": "prompting_env",
   "language": "python",
   "name": "python3"
  },
  "language_info": {
   "codemirror_mode": {
    "name": "ipython",
    "version": 3
   },
   "file_extension": ".py",
   "mimetype": "text/x-python",
   "name": "python",
   "nbconvert_exporter": "python",
   "pygments_lexer": "ipython3",
   "version": "3.12.11"
  }
 },
 "nbformat": 4,
 "nbformat_minor": 5
}
