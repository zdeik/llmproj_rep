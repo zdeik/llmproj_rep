{
 "cells": [
  {
   "cell_type": "code",
   "execution_count": null,
   "id": "1d18c728",
   "metadata": {},
   "outputs": [],
   "source": [
    "# llm 파서"
   ]
  },
  {
   "cell_type": "code",
   "execution_count": 1,
   "id": "b96c5384",
   "metadata": {},
   "outputs": [
    {
     "data": {
      "text/plain": [
       "ChatOpenAI(client=<openai.resources.chat.completions.completions.Completions object at 0x000002D908476B40>, async_client=<openai.resources.chat.completions.completions.AsyncCompletions object at 0x000002D90868B2C0>, root_client=<openai.OpenAI object at 0x000002D9084538C0>, root_async_client=<openai.AsyncOpenAI object at 0x000002D908573BC0>, model_name='gpt-4o-mini', model_kwargs={}, openai_api_key=SecretStr('**********'))"
      ]
     },
     "execution_count": 1,
     "metadata": {},
     "output_type": "execute_result"
    }
   ],
   "source": [
    "from langchain_openai import ChatOpenAI\n",
    "llm = ChatOpenAI(model=\"gpt-4o-mini\")\n",
    "llm"
   ]
  },
  {
   "cell_type": "code",
   "execution_count": 6,
   "id": "dc76d4e3",
   "metadata": {},
   "outputs": [
    {
     "data": {
      "text/plain": [
       "'The output should be formatted as a JSON instance that conforms to the JSON schema below.\\n\\nAs an example, for the schema {\"properties\": {\"foo\": {\"title\": \"Foo\", \"description\": \"a list of strings\", \"type\": \"array\", \"items\": {\"type\": \"string\"}}}, \"required\": [\"foo\"]}\\nthe object {\"foo\": [\"bar\", \"baz\"]} is a well-formatted instance of the schema. The object {\"properties\": {\"foo\": [\"bar\", \"baz\"]}} is not well-formatted.\\n\\nHere is the output schema:\\n```\\n{\"properties\": {\"sender_name\": {\"description\": \"이메일 송신자\", \"title\": \"Sender Name\", \"type\": \"string\"}, \"title\": {\"description\": \"이메일 제목\", \"title\": \"Title\", \"type\": \"string\"}, \"content\": {\"description\": \"이메일 내용\", \"title\": \"Content\", \"type\": \"string\"}}, \"required\": [\"sender_name\", \"title\", \"content\"]}\\n```'"
      ]
     },
     "execution_count": 6,
     "metadata": {},
     "output_type": "execute_result"
    }
   ],
   "source": [
    "from langchain_core.output_parsers import JsonOutputParser\n",
    "from langchain_core.prompts import PromptTemplate\n",
    "from pydantic import BaseModel, Field\n",
    "\n",
    "class EmailPaser(BaseModel):\n",
    "    sender_name: str = Field(description='이메일 송신자')#보낸사람\n",
    "    title: str = Field(description='이메일 제목')#제목\n",
    "    content: str = Field(description='이메일 내용')#내용\n",
    "parser = JsonOutputParser(pydantic_object=EmailPaser)\n",
    "parser.get_format_instructions()"
   ]
  },
  {
   "cell_type": "code",
   "execution_count": 7,
   "id": "bed5a03a",
   "metadata": {},
   "outputs": [
    {
     "data": {
      "text/plain": [
       "PromptTemplate(input_variables=['email'], input_types={}, partial_variables={'foramt_instructions': 'The output should be formatted as a JSON instance that conforms to the JSON schema below.\\n\\nAs an example, for the schema {\"properties\": {\"foo\": {\"title\": \"Foo\", \"description\": \"a list of strings\", \"type\": \"array\", \"items\": {\"type\": \"string\"}}}, \"required\": [\"foo\"]}\\nthe object {\"foo\": [\"bar\", \"baz\"]} is a well-formatted instance of the schema. The object {\"properties\": {\"foo\": [\"bar\", \"baz\"]}} is not well-formatted.\\n\\nHere is the output schema:\\n```\\n{\"properties\": {\"sender_name\": {\"description\": \"이메일 송신자\", \"title\": \"Sender Name\", \"type\": \"string\"}, \"title\": {\"description\": \"이메일 제목\", \"title\": \"Title\", \"type\": \"string\"}, \"content\": {\"description\": \"이메일 내용\", \"title\": \"Content\", \"type\": \"string\"}}, \"required\": [\"sender_name\", \"title\", \"content\"]}\\n```'}, template='이메일을 읽고 정보를 추출하세요.\\n{foramt_instructions}\\n{email}')"
      ]
     },
     "execution_count": 7,
     "metadata": {},
     "output_type": "execute_result"
    }
   ],
   "source": [
    "prompt_temp = PromptTemplate(\n",
    "    template='이메일을 읽고 정보를 추출하세요.\\n{foramt_instructions}\\n{email}',\n",
    "    input_variables=['email'],\n",
    "    partial_variables={'foramt_instructions': parser.get_format_instructions()}\n",
    ")\n",
    "prompt_temp"
   ]
  },
  {
   "cell_type": "code",
   "execution_count": 9,
   "id": "42abec77",
   "metadata": {},
   "outputs": [
    {
     "data": {
      "text/plain": [
       "'이메일을 읽고 정보를 추출하세요.\\nThe output should be formatted as a JSON instance that conforms to the JSON schema below.\\n\\nAs an example, for the schema {\"properties\": {\"foo\": {\"title\": \"Foo\", \"description\": \"a list of strings\", \"type\": \"array\", \"items\": {\"type\": \"string\"}}}, \"required\": [\"foo\"]}\\nthe object {\"foo\": [\"bar\", \"baz\"]} is a well-formatted instance of the schema. The object {\"properties\": {\"foo\": [\"bar\", \"baz\"]}} is not well-formatted.\\n\\nHere is the output schema:\\n```\\n{\"properties\": {\"sender_name\": {\"description\": \"이메일 송신자\", \"title\": \"Sender Name\", \"type\": \"string\"}, \"title\": {\"description\": \"이메일 제목\", \"title\": \"Title\", \"type\": \"string\"}, \"content\": {\"description\": \"이메일 내용\", \"title\": \"Content\", \"type\": \"string\"}}, \"required\": [\"sender_name\", \"title\", \"content\"]}\\n```\\n보내는사람: 김철수\\n제목: 금일자회의록(9/8)\\n회의내용:오늘 00팀과 진행한 내용입니다.'"
      ]
     },
     "execution_count": 9,
     "metadata": {},
     "output_type": "execute_result"
    }
   ],
   "source": [
    "prompt =prompt_temp.format(email='보내는사람: 김철수\\n제목: 금일자회의록(9/8)\\n회의내용:오늘 00팀과 진행한 내용입니다.')\n",
    "prompt"
   ]
  },
  {
   "cell_type": "code",
   "execution_count": 10,
   "id": "4d7a4c66",
   "metadata": {},
   "outputs": [
    {
     "data": {
      "text/plain": [
       "AIMessage(content='```json\\n{\\n  \"sender_name\": \"김철수\",\\n  \"title\": \"금일자회의록(9/8)\",\\n  \"content\": \"오늘 00팀과 진행한 내용입니다.\"\\n}\\n```', additional_kwargs={'refusal': None}, response_metadata={'token_usage': {'completion_tokens': 46, 'prompt_tokens': 263, 'total_tokens': 309, 'completion_tokens_details': {'accepted_prediction_tokens': 0, 'audio_tokens': 0, 'reasoning_tokens': 0, 'rejected_prediction_tokens': 0}, 'prompt_tokens_details': {'audio_tokens': 0, 'cached_tokens': 0}}, 'model_name': 'gpt-4o-mini-2024-07-18', 'system_fingerprint': 'fp_8bda4d3a2c', 'id': 'chatcmpl-CDMj2DnPLsSfl6vJQoIe1m39GUx5s', 'service_tier': 'default', 'finish_reason': 'stop', 'logprobs': None}, id='run--706c167c-81c4-4b52-b1ad-84f7b6882ef9-0', usage_metadata={'input_tokens': 263, 'output_tokens': 46, 'total_tokens': 309, 'input_token_details': {'audio': 0, 'cache_read': 0}, 'output_token_details': {'audio': 0, 'reasoning': 0}})"
      ]
     },
     "execution_count": 10,
     "metadata": {},
     "output_type": "execute_result"
    }
   ],
   "source": [
    "response = llm.invoke(prompt)\n",
    "response"
   ]
  },
  {
   "cell_type": "code",
   "execution_count": null,
   "id": "9a7f3499",
   "metadata": {},
   "outputs": [],
   "source": []
  },
  {
   "cell_type": "code",
   "execution_count": null,
   "id": "2f3f86cb",
   "metadata": {},
   "outputs": [],
   "source": []
  },
  {
   "cell_type": "code",
   "execution_count": null,
   "id": "29c54104",
   "metadata": {},
   "outputs": [],
   "source": []
  },
  {
   "cell_type": "code",
   "execution_count": null,
   "id": "0ff3751b",
   "metadata": {},
   "outputs": [],
   "source": []
  },
  {
   "cell_type": "code",
   "execution_count": null,
   "id": "b7c003de",
   "metadata": {},
   "outputs": [],
   "source": []
  },
  {
   "cell_type": "code",
   "execution_count": null,
   "id": "60eeb36e",
   "metadata": {},
   "outputs": [],
   "source": []
  },
  {
   "cell_type": "code",
   "execution_count": null,
   "id": "bc27a280",
   "metadata": {},
   "outputs": [],
   "source": []
  },
  {
   "cell_type": "code",
   "execution_count": null,
   "id": "81d22c98",
   "metadata": {},
   "outputs": [],
   "source": []
  }
 ],
 "metadata": {
  "kernelspec": {
   "display_name": "prompting_env",
   "language": "python",
   "name": "python3"
  },
  "language_info": {
   "codemirror_mode": {
    "name": "ipython",
    "version": 3
   },
   "file_extension": ".py",
   "mimetype": "text/x-python",
   "name": "python",
   "nbconvert_exporter": "python",
   "pygments_lexer": "ipython3",
   "version": "3.12.11"
  }
 },
 "nbformat": 4,
 "nbformat_minor": 5
}
