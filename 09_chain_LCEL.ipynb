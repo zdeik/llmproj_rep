{
 "cells": [
  {
   "cell_type": "markdown",
   "id": "4aec008f",
   "metadata": {},
   "source": [
    "LCEL LangChainExpressionLanguage\n",
    "프롬프트 > LLM input > chain input > output > prompt\n",
    "\n",
    "runnable 인터페이스 > 랭체인 구현하고 있다."
   ]
  },
  {
   "cell_type": "code",
   "execution_count": null,
   "id": "71549762",
   "metadata": {},
   "outputs": [],
   "source": [
    "# SequentialChain"
   ]
  },
  {
   "cell_type": "code",
   "execution_count": 1,
   "id": "f7f6e502",
   "metadata": {},
   "outputs": [
    {
     "data": {
      "text/plain": [
       "ChatOpenAI(client=<openai.resources.chat.completions.completions.Completions object at 0x000001DCA58FD3A0>, async_client=<openai.resources.chat.completions.completions.AsyncCompletions object at 0x000001DCA5DFE210>, root_client=<openai.OpenAI object at 0x000001DCA57E20F0>, root_async_client=<openai.AsyncOpenAI object at 0x000001DCA5DCE570>, model_name='gpt-4o-mini', model_kwargs={}, openai_api_key=SecretStr('**********'))"
      ]
     },
     "execution_count": 1,
     "metadata": {},
     "output_type": "execute_result"
    }
   ],
   "source": [
    "from langchain_openai import ChatOpenAI\n",
    "llm = ChatOpenAI(model=\"gpt-4o-mini\")\n",
    "llm"
   ]
  },
  {
   "cell_type": "code",
   "execution_count": 3,
   "id": "e71e4bfd",
   "metadata": {},
   "outputs": [
    {
     "data": {
      "text/plain": [
       "LLMChain(verbose=False, prompt=PromptTemplate(input_variables=['city'], input_types={}, partial_variables={}, template='{city}의 랜드마크는 어디인가요?'), llm=ChatOpenAI(client=<openai.resources.chat.completions.completions.Completions object at 0x000001DCA58FD3A0>, async_client=<openai.resources.chat.completions.completions.AsyncCompletions object at 0x000001DCA5DFE210>, root_client=<openai.OpenAI object at 0x000001DCA57E20F0>, root_async_client=<openai.AsyncOpenAI object at 0x000001DCA5DCE570>, model_name='gpt-4o-mini', model_kwargs={}, openai_api_key=SecretStr('**********')), output_parser=StrOutputParser(), llm_kwargs={})"
      ]
     },
     "execution_count": 3,
     "metadata": {},
     "output_type": "execute_result"
    }
   ],
   "source": [
    "from langchain.prompts import PromptTemplate\n",
    "from langchain.chains import LLMChain\n",
    "template = PromptTemplate.from_template('{city}의 랜드마크는 어디인가요?')\n",
    "chain = LLMChain(llm=llm, prompt=template)\n",
    "chain"
   ]
  },
  {
   "cell_type": "code",
   "execution_count": 4,
   "id": "599f36d2",
   "metadata": {},
   "outputs": [
    {
     "data": {
      "text/plain": [
       "{'city': '파리',\n",
       " 'text': \"파리의 주요 랜드마크는 다음과 같습니다:\\n\\n1. **에펠탑 (Tour Eiffel)**: 파리의 상징적 건축물로, 1889년에 세워졌습니다.\\n2. **루브르 박물관 (Musée du Louvre)**: 세계에서 가장 큰 미술관 중 하나로, '모나리자'와 같은 유명한 작품들이 전시되어 있습니다.\\n3. **노틀담 대성당 (Cathédrale Notre-Dame de Paris)**: 고딕 양식의 대성당으로, 아름다운 건축과 역사적인 가치가 있습니다. 2019년 화재로 피해를 입었지만 복구 작업이 진행 중입니다.\\n4. **샹젤리제 거리 (Avenue des Champs-Élysées)**: 유명한 거리로, 다양한 상점과 카페가 위치해 있으며 개선문으로 이어집니다.\\n5. **개선문 (Arc de Triomphe)**: 나폴레옹의 전쟁 승리를 기념하기 위해 세운 기념물로, 파리에서 중요한 장소 중 하나입니다.\\n6. **몽마르트르 언덕 (Montmartre)**: 예술가들이 많이 활동했던 지역으로, 사크레쾨르 성당이 위치해 있습니다.\\n7. **오르세 미술관 (Musée d'Orsay)**: 19세기와 20세기 초의 프랑스 미술을 중심으로 한 미술관입니다.\\n\\n이 외에도 파리에는 많은 아름다운 랜드마크와 명소가 있습니다.\"}"
      ]
     },
     "execution_count": 4,
     "metadata": {},
     "output_type": "execute_result"
    }
   ],
   "source": [
    "chain.invoke({'city':'파리'})"
   ]
  },
  {
   "cell_type": "markdown",
   "id": "e393e314",
   "metadata": {},
   "source": [
    "# LCEL 파이프라인 구성"
   ]
  },
  {
   "cell_type": "code",
   "execution_count": 7,
   "id": "fe74e794",
   "metadata": {},
   "outputs": [
    {
     "data": {
      "text/plain": [
       "PromptTemplate(input_variables=['city'], input_types={}, partial_variables={}, template='{city}의 랜드마크는 어디인가요?')\n",
       "| ChatOpenAI(client=<openai.resources.chat.completions.completions.Completions object at 0x000001DCA58FD3A0>, async_client=<openai.resources.chat.completions.completions.AsyncCompletions object at 0x000001DCA5DFE210>, root_client=<openai.OpenAI object at 0x000001DCA57E20F0>, root_async_client=<openai.AsyncOpenAI object at 0x000001DCA5DCE570>, model_name='gpt-4o-mini', model_kwargs={}, openai_api_key=SecretStr('**********'))"
      ]
     },
     "execution_count": 7,
     "metadata": {},
     "output_type": "execute_result"
    }
   ],
   "source": [
    "chain_lcel = template | llm\n",
    "chain_lcel"
   ]
  },
  {
   "cell_type": "code",
   "execution_count": null,
   "id": "82cedf13",
   "metadata": {},
   "outputs": [
    {
     "data": {
      "text/plain": [
       "AIMessage(content='서울을 대표하는 음식을 맛볼 수 있는 레스토랑 5곳을 추천해 드립니다.\\n\\n1. **광장시장**  \\n   대표 음식: 빈대떡, 마약김밥  \\n   광장시장은 다양한 한국 전통 음식을 즐길 수 있는 장소입니다. 빈대떡과 마약김밥은 특히 인기 있으며, 시장의 활기찬 분위기 속에서 음식을 즐길 수 있습니다.\\n\\n2. **춘천닭갈비**  \\n   대표 음식: 닭갈비  \\n   강원도 춘천에서 유래된 닭갈비를 전문으로 하는 레스토랑으로, 매콤한 양념에 볶아낸 닭고기를 채소와 함께 즐길 수 있습니다. 서울의 여러 곳에 위치해 있습니다.\\n\\n3. **갓포 스시 도모**  \\n   대표 음식: 스시  \\n   일본 요리를 기반으로 한 갓포 스타일의 레스토랑으로, 신선한 재료로 만든 스시를 제공합니다. 이 곳에서 다양한 해산물을 이용한 음식을 즐길 수 있습니다.\\n\\n4. **한남동 국밥집**  \\n   대표 음식: 설렁탕, 곰탕  \\n   국밥 전문점으로, 깊고 진한 국물의 설렁탕과 곰탕을 맛볼 수 있습니다. 전통적인 한국의 국밥 문화를 경험하고 싶다면 추천합니다.\\n\\n5. **마포 갈매기**  \\n   대표 음식: 갈매기살  \\n   갈매기살 구이를 전문으로 하는 레스토랑으로, 신선한 채소와 함께 고기를 구워 맛볼 수 있습니다. 삼겹살과는 또 다른 매력이 있는 갈매기살을 방문해보세요.\\n\\n각 레스토랑은 고유의 매력을 가지고 있어 서울의 맛을 즐길 수 있는 좋은 선택이 될 것입니다.', additional_kwargs={'refusal': None}, response_metadata={'token_usage': {'completion_tokens': 403, 'prompt_tokens': 27, 'total_tokens': 430, 'completion_tokens_details': {'accepted_prediction_tokens': 0, 'audio_tokens': 0, 'reasoning_tokens': 0, 'rejected_prediction_tokens': 0}, 'prompt_tokens_details': {'audio_tokens': 0, 'cached_tokens': 0}}, 'model_name': 'gpt-4o-mini-2024-07-18', 'system_fingerprint': 'fp_8bda4d3a2c', 'id': 'chatcmpl-CDL9dhi3YUgvpX6mFS09uTur7u6dW', 'service_tier': 'default', 'finish_reason': 'stop', 'logprobs': None}, id='run--2017a47b-45c8-43b1-80f8-3da6eeb9d92e-0', usage_metadata={'input_tokens': 27, 'output_tokens': 403, 'total_tokens': 430, 'input_token_details': {'audio': 0, 'cache_read': 0}, 'output_token_details': {'audio': 0, 'reasoning': 0}})"
      ]
     },
     "metadata": {},
     "output_type": "display_data"
    }
   ],
   "source": []
  },
  {
   "cell_type": "code",
   "execution_count": 8,
   "id": "df2a7a86",
   "metadata": {},
   "outputs": [
    {
     "data": {
      "text/plain": [
       "AIMessage(content='파리에는 많은 유명한 랜드마크가 있습니다. 가장 유명한 랜드마크 몇 가지를 소개하겠습니다.\\n\\n1. **에펠탑 (Tour Eiffel)**: 파리의 아이콘으로, 1889년에 세워졌습니다. 파리의 전경을 한눈에 볼 수 있는 전망대를 가지고 있습니다.\\n\\n2. **루브르 박물관 (Musée du Louvre)**: 세계에서 가장 큰 미술관 중 하나로, 모나리자와 같은 유명한 작품들이 전시되어 있습니다.\\n\\n3. **노트르담 대성당 (Notre-Dame de Paris)**: 고딕 건축의 대표적인 예로, 아름다운 스테인드글라스 창문과 조각들이 특징입니다.\\n\\n4. **샹젤리제 거리 (Avenue des Champs-Élysées)**: 유명한 쇼핑 거리로, 개선문(Arc de Triomphe)과 연결됩니다.\\n\\n5. **몽마르트르 언덕 (Montmartre)**: 파리의 예술가들이 많이 모였던 지역이며, 사크레쾨르 대성당(Basilique du Sacré-Cœur)도 위치해 있습니다.\\n\\n6. **팔레 로이얄 (Palais-Royal)**: 아름다운 정원과 건축물이 있는 역사적인 장소입니다.\\n\\n이 외에도 파리에는 많은 매력적인 장소들이 있으니 방문할 때 다양한 랜드마크들을 즐겨보세요!', additional_kwargs={'refusal': None}, response_metadata={'token_usage': {'completion_tokens': 315, 'prompt_tokens': 19, 'total_tokens': 334, 'completion_tokens_details': {'accepted_prediction_tokens': 0, 'audio_tokens': 0, 'reasoning_tokens': 0, 'rejected_prediction_tokens': 0}, 'prompt_tokens_details': {'audio_tokens': 0, 'cached_tokens': 0}}, 'model_name': 'gpt-4o-mini-2024-07-18', 'system_fingerprint': 'fp_e665f7564b', 'id': 'chatcmpl-CDMylyeK64SVE44LhvycV6Gm5IWkE', 'service_tier': 'default', 'finish_reason': 'stop', 'logprobs': None}, id='run--e5cf2334-5a47-44d0-86bf-7f45a0a13371-0', usage_metadata={'input_tokens': 19, 'output_tokens': 315, 'total_tokens': 334, 'input_token_details': {'audio': 0, 'cache_read': 0}, 'output_token_details': {'audio': 0, 'reasoning': 0}})"
      ]
     },
     "execution_count": 8,
     "metadata": {},
     "output_type": "execute_result"
    }
   ],
   "source": [
    "chain_lcel.invoke({'city':'파리'})"
   ]
  },
  {
   "cell_type": "code",
   "execution_count": null,
   "id": "cc3c1ed3",
   "metadata": {},
   "outputs": [],
   "source": [
    "# Sequenetial  chan의 구성"
   ]
  },
  {
   "cell_type": "code",
   "execution_count": 11,
   "id": "d8df64aa",
   "metadata": {},
   "outputs": [
    {
     "ename": "ValidationError",
     "evalue": "1 validation error for SequentialChain\n  Value error, Missing required input keys: {'landmark'}, only had {'transport', 'city', 'text'} [type=value_error, input_value={'chains': [LLMChain(verb...: ['city', 'transport']}, input_type=dict]\n    For further information visit https://errors.pydantic.dev/2.11/v/value_error",
     "output_type": "error",
     "traceback": [
      "\u001b[31m---------------------------------------------------------------------------\u001b[39m",
      "\u001b[31mValidationError\u001b[39m                           Traceback (most recent call last)",
      "\u001b[36mCell\u001b[39m\u001b[36m \u001b[39m\u001b[32mIn[11]\u001b[39m\u001b[32m, line 8\u001b[39m\n\u001b[32m      6\u001b[39m chain1 = LLMChain(llm=llm, prompt=prompt1)\n\u001b[32m      7\u001b[39m chain2= LLMChain(llm=llm, prompt=prompt2)\n\u001b[32m----> \u001b[39m\u001b[32m8\u001b[39m seq_chain = \u001b[43mSequentialChain\u001b[49m\u001b[43m(\u001b[49m\u001b[43mchains\u001b[49m\u001b[43m=\u001b[49m\u001b[43m[\u001b[49m\u001b[43mchain1\u001b[49m\u001b[43m,\u001b[49m\u001b[43m \u001b[49m\u001b[43mchain2\u001b[49m\u001b[43m]\u001b[49m\u001b[43m,\u001b[49m\u001b[43m \u001b[49m\u001b[43minput_variables\u001b[49m\u001b[43m=\u001b[49m\u001b[43m[\u001b[49m\u001b[33;43m'\u001b[39;49m\u001b[33;43mcity\u001b[39;49m\u001b[33;43m'\u001b[39;49m\u001b[43m,\u001b[49m\u001b[43m \u001b[49m\u001b[33;43m'\u001b[39;49m\u001b[33;43mtransport\u001b[39;49m\u001b[33;43m'\u001b[39;49m\u001b[43m]\u001b[49m\u001b[43m)\u001b[49m\n\u001b[32m      9\u001b[39m seq_chain\n",
      "\u001b[36mFile \u001b[39m\u001b[32mc:\\Users\\Admin\\miniconda3\\envs\\prompting_env\\Lib\\site-packages\\langchain_core\\load\\serializable.py:130\u001b[39m, in \u001b[36mSerializable.__init__\u001b[39m\u001b[34m(self, *args, **kwargs)\u001b[39m\n\u001b[32m    128\u001b[39m \u001b[38;5;28;01mdef\u001b[39;00m\u001b[38;5;250m \u001b[39m\u001b[34m__init__\u001b[39m(\u001b[38;5;28mself\u001b[39m, *args: Any, **kwargs: Any) -> \u001b[38;5;28;01mNone\u001b[39;00m:\n\u001b[32m    129\u001b[39m \u001b[38;5;250m    \u001b[39m\u001b[33;03m\"\"\"\"\"\"\u001b[39;00m  \u001b[38;5;66;03m# noqa: D419\u001b[39;00m\n\u001b[32m--> \u001b[39m\u001b[32m130\u001b[39m     \u001b[38;5;28;43msuper\u001b[39;49m\u001b[43m(\u001b[49m\u001b[43m)\u001b[49m\u001b[43m.\u001b[49m\u001b[34;43m__init__\u001b[39;49m\u001b[43m(\u001b[49m\u001b[43m*\u001b[49m\u001b[43margs\u001b[49m\u001b[43m,\u001b[49m\u001b[43m \u001b[49m\u001b[43m*\u001b[49m\u001b[43m*\u001b[49m\u001b[43mkwargs\u001b[49m\u001b[43m)\u001b[49m\n",
      "\u001b[36mFile \u001b[39m\u001b[32mc:\\Users\\Admin\\miniconda3\\envs\\prompting_env\\Lib\\site-packages\\pydantic\\main.py:253\u001b[39m, in \u001b[36mBaseModel.__init__\u001b[39m\u001b[34m(self, **data)\u001b[39m\n\u001b[32m    251\u001b[39m \u001b[38;5;66;03m# `__tracebackhide__` tells pytest and some other tools to omit this function from tracebacks\u001b[39;00m\n\u001b[32m    252\u001b[39m __tracebackhide__ = \u001b[38;5;28;01mTrue\u001b[39;00m\n\u001b[32m--> \u001b[39m\u001b[32m253\u001b[39m validated_self = \u001b[38;5;28;43mself\u001b[39;49m\u001b[43m.\u001b[49m\u001b[43m__pydantic_validator__\u001b[49m\u001b[43m.\u001b[49m\u001b[43mvalidate_python\u001b[49m\u001b[43m(\u001b[49m\u001b[43mdata\u001b[49m\u001b[43m,\u001b[49m\u001b[43m \u001b[49m\u001b[43mself_instance\u001b[49m\u001b[43m=\u001b[49m\u001b[38;5;28;43mself\u001b[39;49m\u001b[43m)\u001b[49m\n\u001b[32m    254\u001b[39m \u001b[38;5;28;01mif\u001b[39;00m \u001b[38;5;28mself\u001b[39m \u001b[38;5;129;01mis\u001b[39;00m \u001b[38;5;129;01mnot\u001b[39;00m validated_self:\n\u001b[32m    255\u001b[39m     warnings.warn(\n\u001b[32m    256\u001b[39m         \u001b[33m'\u001b[39m\u001b[33mA custom validator is returning a value other than `self`.\u001b[39m\u001b[38;5;130;01m\\n\u001b[39;00m\u001b[33m'\u001b[39m\n\u001b[32m    257\u001b[39m         \u001b[33m\"\u001b[39m\u001b[33mReturning anything other than `self` from a top level model validator isn\u001b[39m\u001b[33m'\u001b[39m\u001b[33mt supported when validating via `__init__`.\u001b[39m\u001b[38;5;130;01m\\n\u001b[39;00m\u001b[33m\"\u001b[39m\n\u001b[32m    258\u001b[39m         \u001b[33m'\u001b[39m\u001b[33mSee the `model_validator` docs (https://docs.pydantic.dev/latest/concepts/validators/#model-validators) for more details.\u001b[39m\u001b[33m'\u001b[39m,\n\u001b[32m    259\u001b[39m         stacklevel=\u001b[32m2\u001b[39m,\n\u001b[32m    260\u001b[39m     )\n",
      "\u001b[31mValidationError\u001b[39m: 1 validation error for SequentialChain\n  Value error, Missing required input keys: {'landmark'}, only had {'transport', 'city', 'text'} [type=value_error, input_value={'chains': [LLMChain(verb...: ['city', 'transport']}, input_type=dict]\n    For further information visit https://errors.pydantic.dev/2.11/v/value_error"
     ]
    }
   ],
   "source": [
    "from langchain.chains import SequentialChain\n",
    "\n",
    "prompt1 = PromptTemplate.from_template('{city}의 랜드마크 1개만 알려주세요. 설명은 필요없고 이름만 1개 알려주세요')\n",
    "prompt2 = PromptTemplate.from_template('{landmark}를 {transport}로 가는 방법이 무엇인가요')\n",
    "\n",
    "chain1 = LLMChain(llm=llm, prompt=prompt1)\n",
    "chain2= LLMChain(llm=llm, prompt=prompt2)\n",
    "seq_chain = SequentialChain(chains=[chain1, chain2], input_variables=['city', 'transport'])\n",
    "seq_chain"
   ]
  },
  {
   "cell_type": "code",
   "execution_count": null,
   "id": "fbc22657",
   "metadata": {},
   "outputs": [],
   "source": [
    "seq_chain.invoke({'city':'seoul', 'transport': '지하철'})"
   ]
  },
  {
   "cell_type": "code",
   "execution_count": null,
   "id": "21d5c886",
   "metadata": {},
   "outputs": [],
   "source": []
  },
  {
   "cell_type": "code",
   "execution_count": null,
   "id": "d6604d4e",
   "metadata": {},
   "outputs": [],
   "source": []
  },
  {
   "cell_type": "code",
   "execution_count": null,
   "id": "d6ac7edd",
   "metadata": {},
   "outputs": [],
   "source": []
  },
  {
   "cell_type": "code",
   "execution_count": null,
   "id": "14f5c7a2",
   "metadata": {},
   "outputs": [],
   "source": []
  },
  {
   "cell_type": "code",
   "execution_count": null,
   "id": "18bae2cd",
   "metadata": {},
   "outputs": [],
   "source": []
  },
  {
   "cell_type": "code",
   "execution_count": null,
   "id": "9fa1a7b7",
   "metadata": {},
   "outputs": [],
   "source": []
  }
 ],
 "metadata": {
  "kernelspec": {
   "display_name": "prompting_env",
   "language": "python",
   "name": "python3"
  },
  "language_info": {
   "codemirror_mode": {
    "name": "ipython",
    "version": 3
   },
   "file_extension": ".py",
   "mimetype": "text/x-python",
   "name": "python",
   "nbconvert_exporter": "python",
   "pygments_lexer": "ipython3",
   "version": "3.12.11"
  }
 },
 "nbformat": 4,
 "nbformat_minor": 5
}
