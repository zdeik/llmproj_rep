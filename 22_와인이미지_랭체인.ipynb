{
 "cells": [
  {
   "cell_type": "code",
   "execution_count": 1,
   "id": "7f2ded15",
   "metadata": {},
   "outputs": [],
   "source": [
    "from dotenv import load_dotenv\n",
    "import os\n",
    "from langchain_openai import ChatOpenAI\n",
    "\n",
    "load_dotenv()\n",
    "\n",
    "llm = ChatOpenAI(model=\"gpt-4o\", temperature=0) "
   ]
  },
  {
   "cell_type": "code",
   "execution_count": 2,
   "id": "518b56e8",
   "metadata": {},
   "outputs": [
    {
     "data": {
      "text/plain": [
       "ChatPromptTemplate(input_variables=['image_url', 'text'], input_types={}, partial_variables={}, messages=[SystemMessagePromptTemplate(prompt=PromptTemplate(input_variables=[], input_types={}, partial_variables={}, template='You are an expert sommelier with extensive knowledge in wine, wine pairing, and the intricacies of food and beverage service. Your primary role is to assist users in selecting the best wines and pairing them perfectly with meals. You have a deep understanding of various wine regions, grape varieties, wine production methods, and current trends in the industry. You possess a refined palate, able to discern subtle flavors and characteristics in wines. Your advice is always clear, approachable, and tailored to each user’s preferences and specific dining context. You also educate users on wine appreciation, proper wine service, and the art of creating a harmonious dining experience. Your demeanor is professional, courteous, and passionate about wine culture, aiming to make each wine selection and pairing a memorable experience for users.'), additional_kwargs={}), HumanMessagePromptTemplate(prompt=[PromptTemplate(input_variables=['text'], input_types={}, partial_variables={}, template='{text}'), ImagePromptTemplate(input_variables=['image_url'], input_types={}, partial_variables={}, template={'url': '{image_url}'})], additional_kwargs={})])"
      ]
     },
     "execution_count": 2,
     "metadata": {},
     "output_type": "execute_result"
    }
   ],
   "source": [
    "\n",
    "from langchain.prompts import ChatPromptTemplate\n",
    "SYSTEM_PROMPT = \"You are an expert sommelier with extensive knowledge in wine, wine pairing, and the intricacies of food and beverage service. Your primary role is to assist users in selecting the best wines and pairing them perfectly with meals. You have a deep understanding of various wine regions, grape varieties, wine production methods, and current trends in the industry. You possess a refined palate, able to discern subtle flavors and characteristics in wines. Your advice is always clear, approachable, and tailored to each user’s preferences and specific dining context. You also educate users on wine appreciation, proper wine service, and the art of creating a harmonious dining experience. Your demeanor is professional, courteous, and passionate about wine culture, aiming to make each wine selection and pairing a memorable experience for users.\"\n",
    "wine_query = \"이 와인에 어울리는 요리에는 어떤 것들이 있을까요?\"\n",
    "\n",
    "chat_template = ChatPromptTemplate.from_messages(\n",
    "  [\n",
    "    ('system', SYSTEM_PROMPT),\n",
    "    ('human', [ {'type': 'text', 'text':'{text}'},\n",
    "                {'type':'image_url', 'image_url':  {'url': '{image_url}'}}])\n",
    "  ]\n",
    ")\n",
    "chat_template"
   ]
  },
  {
   "cell_type": "markdown",
   "id": "4489d3c6",
   "metadata": {},
   "source": [
    "# recomment_dish_chain 용 랭체인 프롬프트"
   ]
  },
  {
   "cell_type": "code",
   "execution_count": 3,
   "id": "aa2ebe1f",
   "metadata": {},
   "outputs": [
    {
     "data": {
      "text/plain": [
       "'Primitivo 와인은 일반적으로 풍부하고 과일 향이 강하며, 약간의 스파이시한 맛이 특징입니다. 이 와인에 어울리는 요리로는 다음과 같은 것들이 있습니다:\\n\\n1. **그릴드 스테이크**: 육즙이 풍부한 스테이크는 Primitivo의 풍부한 과일 향과 잘 어울립니다.\\n\\n2. **바비큐 립**: 달콤하고 매콤한 바비큐 소스가 Primitivo의 스파이시한 노트와 조화를 이룹니다.\\n\\n3. **라자냐**: 토마토 소스와 치즈가 듬뿍 들어간 라자냐는 이 와인의 풍미를 잘 받쳐줍니다.\\n\\n4. **양고기 요리**: 허브와 함께 조리한 양고기는 Primitivo의 복합적인 맛과 잘 어울립니다.\\n\\n5. **치즈 플래터**: 특히 고다, 체다 같은 숙성 치즈와 잘 어울립니다.\\n\\n이 와인은 풍미가 강한 요리와 잘 어울리므로, 다양한 고기 요리나 풍부한 소스가 있는 요리와 함께 즐기시면 좋습니다.'"
      ]
     },
     "execution_count": 3,
     "metadata": {},
     "output_type": "execute_result"
    }
   ],
   "source": [
    "from langchain_core.output_parsers import StrOutputParser\n",
    "output_parser = StrOutputParser()\n",
    "chain = chat_template|llm|output_parser\n",
    "response = chain.invoke(\n",
    "  {\n",
    "    'text': wine_query,\n",
    "    'image_url': 'https://images.vivino.com/thumbs/Z90I3--JRKWlpMA8wdLY-Q_pb_x600.png'\n",
    "  }\n",
    ")\n",
    "response"
   ]
  },
  {
   "cell_type": "code",
   "execution_count": 4,
   "id": "db246429",
   "metadata": {},
   "outputs": [],
   "source": [
    "def recommend_dishes_chain(query):\n",
    "    \n",
    "  chat_template = ChatPromptTemplate.from_messages(\n",
    "    [\n",
    "      ('system', SYSTEM_PROMPT),\n",
    "      ('human', [ {'type': 'text', 'text':query['text']},\n",
    "                  {'type':'image_url', 'image_url':  {'url': query['image_url']}}])\n",
    "    ]\n",
    "  )\n",
    "  chain = chat_template|llm|output_parser\n",
    "  return chain"
   ]
  },
  {
   "cell_type": "code",
   "execution_count": 5,
   "id": "27f7dde1",
   "metadata": {},
   "outputs": [],
   "source": [
    "query_1 = {\n",
    "  'text':wine_query,\n",
    "  'image_url': 'https://images.vivino.com/thumbs/Z90I3--JRKWlpMA8wdLY-Q_pb_x600.png'\n",
    "}\n",
    "rec_dish_chain = recommend_dishes_chain(query_1)"
   ]
  },
  {
   "cell_type": "code",
   "execution_count": 6,
   "id": "f41fd730",
   "metadata": {},
   "outputs": [
    {
     "data": {
      "text/plain": [
       "'Primitivo 와인은 일반적으로 풍부하고 과일 향이 강하며, 종종 높은 알코올 도수를 가지고 있습니다. 이 와인에 어울리는 요리로는 다음과 같은 것들이 있습니다:\\n\\n1. **바비큐 요리**: 풍부한 소스와 함께한 바비큐 립이나 스테이크는 Primitivo의 과일 향과 잘 어울립니다.\\n\\n2. **토마토 소스 파스타**: 특히 미트볼이나 소시지가 들어간 파스타는 와인의 풍미를 잘 살려줍니다.\\n\\n3. **양고기**: 허브와 함께 구운 양고기는 Primitivo의 복합적인 맛과 잘 어울립니다.\\n\\n4. **치즈**: 고다, 체다 같은 강한 맛의 치즈와도 잘 어울립니다.\\n\\n5. **피자**: 특히 살라미나 페퍼로니가 올라간 피자는 Primitivo의 풍부한 맛과 조화를 이룹니다.\\n\\n이 와인은 강한 맛의 요리와 잘 어울리므로, 풍미가 강한 재료를 사용하는 요리를 선택하는 것이 좋습니다.'"
      ]
     },
     "execution_count": 6,
     "metadata": {},
     "output_type": "execute_result"
    }
   ],
   "source": [
    "rec_dish_chain.invoke(query_1)"
   ]
  },
  {
   "cell_type": "code",
   "execution_count": 7,
   "id": "ea11e0c0",
   "metadata": {},
   "outputs": [
    {
     "data": {
      "text/plain": [
       "'Primitivo 와인은 풍부하고 과일 향이 강하며, 종종 높은 알코올 도수를 가지고 있습니다. 이 와인에 어울리는 요리로는 다음과 같은 것들이 있습니다:\\n\\n1. **바비큐 요리**: 풍부한 소스와 함께한 바비큐 립이나 스테이크는 Primitivo의 과일 향과 잘 어울립니다.\\n\\n2. **토마토 소스 파스타**: 토마토의 산미가 와인의 풍미를 잘 보완합니다.\\n\\n3. **양고기**: 허브와 함께 구운 양고기는 Primitivo의 깊은 맛과 잘 어울립니다.\\n\\n4. **치즈**: 고다나 체다 같은 숙성 치즈와도 잘 어울립니다.\\n\\n5. **피자**: 특히 고기 토핑이 있는 피자는 Primitivo와 좋은 조화를 이룹니다.\\n\\n이 와인의 풍부한 맛을 잘 살릴 수 있는 요리를 선택해 보세요!'"
      ]
     },
     "execution_count": 7,
     "metadata": {},
     "output_type": "execute_result"
    }
   ],
   "source": [
    "from langchain_core.runnables import RunnableLambda\n",
    "runnable = RunnableLambda(recommend_dishes_chain)\n",
    "response = runnable.invoke(query_1)\n",
    "response"
   ]
  },
  {
   "cell_type": "markdown",
   "id": "ce92f529",
   "metadata": {},
   "source": [
    "# describe_dish_flavor_chain 용 랭체인 프롬프트"
   ]
  },
  {
   "cell_type": "code",
   "execution_count": 8,
   "id": "2502d325",
   "metadata": {},
   "outputs": [],
   "source": [
    "def describe_dish_flavor_chain(query):\n",
    "  #prompttemplate \n",
    "  # parser\n",
    "  #chain\n",
    "  return ''"
   ]
  },
  {
   "cell_type": "code",
   "execution_count": 9,
   "id": "3a895cbe",
   "metadata": {},
   "outputs": [],
   "source": [
    "dish_system_prompt = \"\"\"\n",
    "            Persona:\n",
    "            As a flavor analysis system, I am equipped with a deep understanding of food ingredients, cooking methods, and sensory properties such as taste, texture, and aroma. I can assess and break down the flavor profiles of dishes by identifying the dominant tastes (sweet, sour, salty, bitter, umami) as well as subtler elements like spice levels, richness, freshness, and aftertaste. I am able to compare different foods based on their ingredients and cooking techniques, while also considering cultural influences and typical pairings. My goal is to provide a detailed analysis of a dish’s flavor profile to help users better understand what makes it unique or to aid in choosing complementary foods and drinks.\n",
    "\n",
    "            Role:\n",
    "\n",
    "            1. Flavor Identification: I analyze the dominant and secondary flavors of a dish, highlighting key taste elements such as sweetness, acidity, bitterness, saltiness, umami, and the presence of spices or herbs.\n",
    "            2. Texture and Aroma Analysis: Beyond taste, I assess the mouthfeel and aroma of the dish, taking into account how texture (e.g., creamy, crunchy) and scents (e.g., smoky, floral) contribute to the overall experience.\n",
    "            3. Ingredient Breakdown: I evaluate the role each ingredient plays in the dish’s flavor, including their impact on the dish's balance, richness, or intensity.\n",
    "            4. Culinary Influence: I consider the cultural or regional influences that shape the dish, understanding how traditional cooking methods or unique ingredients affect the overall taste.\n",
    "            5. Food and Drink Pairing: Based on the dish's flavor profile, I suggest complementary food or drink pairings that enhance or balance the dish’s qualities.\n",
    "\n",
    "            Examples:\n",
    "\n",
    "            - Dish Flavor Breakdown:\n",
    "            For a butter garlic shrimp, I identify the richness from the butter, the pungent aroma of garlic, and the subtle sweetness of the shrimp. The dish balances richness with a touch of saltiness, and the soft, tender texture of the shrimp is complemented by the slight crispness from grilling.\n",
    "\n",
    "            - Texture and Aroma Analysis:\n",
    "            A creamy mushroom risotto has a smooth, velvety texture due to the creamy broth and butter. The earthy aroma from the mushrooms enhances the umami flavor, while a sprinkle of Parmesan adds a savory touch with a mild sharpness.\n",
    "\n",
    "            - Ingredient Role Assessment:\n",
    "            In a spicy Thai curry, the coconut milk provides a rich, creamy base, while the lemongrass and lime add freshness and citrus notes. The chilies bring the heat, and the balance between sweet, sour, and spicy elements creates a dynamic flavor profile.\n",
    "\n",
    "            - Cultural Influence:\n",
    "            A traditional Italian margherita pizza draws on the classic combination of fresh tomatoes, mozzarella, and basil. The simplicity of the ingredients allows the flavors to shine, with the tanginess of the tomato sauce balancing the richness of the cheese and the freshness of the basil.\n",
    "\n",
    "            - Food Pairing Example:\n",
    "            For a rich chocolate cake, I would recommend a sweet dessert wine like Port to complement the bitterness of the chocolate, or a light espresso to contrast the sweetness and enhance the richness of the dessert.\n",
    "        \"\"\""
   ]
  },
  {
   "cell_type": "code",
   "execution_count": 10,
   "id": "727bec6a",
   "metadata": {},
   "outputs": [],
   "source": [
    "def describe_dish_flavor_chain(query):\n",
    "    # 이미지가 있는 경우와 없는 경우를 구분하여 처리\n",
    "    if query.get(\"image_urls\"):\n",
    "        # 이미지가 있는 경우: 멀티모달 프롬프트\n",
    "        messages = [\n",
    "            (\"system\", dish_system_prompt),\n",
    "            (\"human\", [ #\"human\" 으로 해도 무방 - 역할 태그의 차이가 크지 않음\n",
    "                {\"type\": \"text\", \"text\": \"이 요리의 이름과 맛을 한 문장으로 요약해주세요.\"},\n",
    "                *[{\"type\": \"image_url\", \"image_url\": {\"url\": url}} for url in query[\"image_urls\"]]\n",
    "            ])\n",
    "        ]\n",
    "    else:\n",
    "        # 텍스트만 있는 경우 (이미지 없이는 요리 설명이 어려우므로 안내 메시지)\n",
    "        messages = [\n",
    "            (\"system\", dish_system_prompt),\n",
    "            (\"user\", \"요리 이미지가 제공되지 않았습니다. 요리 이미지를 업로드해주시면 정확한 분석을 도와드리겠습니다.\")\n",
    "        ]\n",
    "    \n",
    "    prompt = ChatPromptTemplate.from_messages(messages)\n",
    "    output_parser = StrOutputParser()\n",
    "    \n",
    "    chain = prompt | llm | output_parser\n",
    "    return chain"
   ]
  },
  {
   "cell_type": "code",
   "execution_count": 11,
   "id": "9ed41b41",
   "metadata": {},
   "outputs": [
    {
     "name": "stdout",
     "output_type": "stream",
     "text": [
      "이 요리는 견과류와 귀리가 들어간 그래놀라 바로, 고소하고 달콤하며 바삭한 식감이 특징입니다.\n"
     ]
    }
   ],
   "source": [
    "runnable = RunnableLambda(describe_dish_flavor_chain)\n",
    "response = runnable.invoke({\n",
    "    \"image_urls\": [\"https://www.stockfood.com/Sites/StockFood/Documents/Homepage/News//en/16.jpg\"]\n",
    "})\n",
    "\n",
    "print(response)"
   ]
  },
  {
   "cell_type": "markdown",
   "id": "a3ae64ce",
   "metadata": {},
   "source": [
    "# wine_search"
   ]
  },
  {
   "cell_type": "code",
   "execution_count": 12,
   "id": "75e38052",
   "metadata": {},
   "outputs": [
    {
     "data": {
      "text/plain": [
       "True"
      ]
     },
     "execution_count": 12,
     "metadata": {},
     "output_type": "execute_result"
    }
   ],
   "source": [
    "\n",
    "from dotenv import load_dotenv\n",
    "import os\n",
    "from langchain_openai import ChatOpenAI\n",
    "\n",
    "load_dotenv()"
   ]
  },
  {
   "cell_type": "code",
   "execution_count": 13,
   "id": "3ebb2f13",
   "metadata": {},
   "outputs": [
    {
     "name": "stdout",
     "output_type": "stream",
     "text": [
      "[{\n",
      "    \"name\": \"quickstart\",\n",
      "    \"metric\": \"cosine\",\n",
      "    \"host\": \"quickstart-2wxeig8.svc.aped-4627-b74a.pinecone.io\",\n",
      "    \"spec\": {\n",
      "        \"serverless\": {\n",
      "            \"cloud\": \"aws\",\n",
      "            \"region\": \"us-east-1\"\n",
      "        }\n",
      "    },\n",
      "    \"status\": {\n",
      "        \"ready\": true,\n",
      "        \"state\": \"Ready\"\n",
      "    },\n",
      "    \"vector_type\": \"dense\",\n",
      "    \"dimension\": 1024,\n",
      "    \"deletion_protection\": \"disabled\",\n",
      "    \"tags\": null\n",
      "}, {\n",
      "    \"name\": \"wine-embeddings\",\n",
      "    \"metric\": \"cosine\",\n",
      "    \"host\": \"wine-embeddings-2wxeig8.svc.aped-4627-b74a.pinecone.io\",\n",
      "    \"spec\": {\n",
      "        \"serverless\": {\n",
      "            \"cloud\": \"aws\",\n",
      "            \"region\": \"us-east-1\"\n",
      "        }\n",
      "    },\n",
      "    \"status\": {\n",
      "        \"ready\": true,\n",
      "        \"state\": \"Ready\"\n",
      "    },\n",
      "    \"vector_type\": \"dense\",\n",
      "    \"dimension\": 768,\n",
      "    \"deletion_protection\": \"disabled\",\n",
      "    \"tags\": null\n",
      "}, {\n",
      "    \"name\": \"embedding-3d\",\n",
      "    \"metric\": \"cosine\",\n",
      "    \"host\": \"embedding-3d-2wxeig8.svc.aped-4627-b74a.pinecone.io\",\n",
      "    \"spec\": {\n",
      "        \"serverless\": {\n",
      "            \"cloud\": \"aws\",\n",
      "            \"region\": \"us-east-1\"\n",
      "        }\n",
      "    },\n",
      "    \"status\": {\n",
      "        \"ready\": true,\n",
      "        \"state\": \"Ready\"\n",
      "    },\n",
      "    \"vector_type\": \"dense\",\n",
      "    \"dimension\": 3,\n",
      "    \"deletion_protection\": \"disabled\",\n",
      "    \"tags\": null\n",
      "}, {\n",
      "    \"name\": \"wiki\",\n",
      "    \"metric\": \"cosine\",\n",
      "    \"host\": \"wiki-2wxeig8.svc.aped-4627-b74a.pinecone.io\",\n",
      "    \"spec\": {\n",
      "        \"serverless\": {\n",
      "            \"cloud\": \"aws\",\n",
      "            \"region\": \"us-east-1\"\n",
      "        }\n",
      "    },\n",
      "    \"status\": {\n",
      "        \"ready\": true,\n",
      "        \"state\": \"Ready\"\n",
      "    },\n",
      "    \"vector_type\": \"dense\",\n",
      "    \"dimension\": 1536,\n",
      "    \"deletion_protection\": \"disabled\",\n",
      "    \"tags\": null\n",
      "}, {\n",
      "    \"name\": \"quickstart-2\",\n",
      "    \"metric\": \"cosine\",\n",
      "    \"host\": \"quickstart-2-2wxeig8.svc.aped-4627-b74a.pinecone.io\",\n",
      "    \"spec\": {\n",
      "        \"serverless\": {\n",
      "            \"cloud\": \"aws\",\n",
      "            \"region\": \"us-east-1\"\n",
      "        }\n",
      "    },\n",
      "    \"status\": {\n",
      "        \"ready\": true,\n",
      "        \"state\": \"Ready\"\n",
      "    },\n",
      "    \"vector_type\": \"dense\",\n",
      "    \"dimension\": 1024,\n",
      "    \"deletion_protection\": \"disabled\",\n",
      "    \"tags\": null,\n",
      "    \"embed\": {\n",
      "        \"model\": \"multilingual-e5-large\",\n",
      "        \"field_map\": {\n",
      "            \"text\": \"text\"\n",
      "        },\n",
      "        \"dimension\": 1024,\n",
      "        \"metric\": \"cosine\",\n",
      "        \"write_parameters\": {\n",
      "            \"input_type\": \"passage\",\n",
      "            \"truncate\": \"END\"\n",
      "        },\n",
      "        \"read_parameters\": {\n",
      "            \"input_type\": \"query\",\n",
      "            \"truncate\": \"END\"\n",
      "        },\n",
      "        \"vector_type\": \"dense\"\n",
      "    }\n",
      "}]\n"
     ]
    }
   ],
   "source": [
    "from pinecone import Pinecone\n",
    "import os\n",
    "\n",
    "pc = Pinecone(api_key=os.getenv(\"PINECONE_API_KEY\"))\n",
    "\n",
    "# 현재 계정의 모든 인덱스 목록 출력\n",
    "print(pc.list_indexes())\n"
   ]
  },
  {
   "cell_type": "code",
   "execution_count": 14,
   "id": "9e71482e",
   "metadata": {},
   "outputs": [
    {
     "name": "stderr",
     "output_type": "stream",
     "text": [
      "c:\\Users\\Admin\\miniconda3\\envs\\prompting_env\\Lib\\site-packages\\tqdm\\auto.py:21: TqdmWarning: IProgress not found. Please update jupyter and ipywidgets. See https://ipywidgets.readthedocs.io/en/stable/user_install.html\n",
      "  from .autonotebook import tqdm as notebook_tqdm\n",
      "c:\\Users\\Admin\\miniconda3\\envs\\prompting_env\\Lib\\site-packages\\langchain_pinecone\\__init__.py:3: LangChainDeprecationWarning: As of langchain-core 0.3.0, LangChain uses pydantic v2 internally. The langchain_core.pydantic_v1 module was a compatibility shim for pydantic v1, and should no longer be used. Please update the code to import from Pydantic directly.\n",
      "\n",
      "For example, replace imports like: `from langchain_core.pydantic_v1 import BaseModel`\n",
      "with: `from pydantic import BaseModel`\n",
      "or the v1 compatibility namespace if you are working in a code base that has not been fully upgraded to pydantic 2 yet. \tfrom pydantic.v1 import BaseModel\n",
      "\n",
      "  from langchain_pinecone.vectorstores import Pinecone, PineconeVectorStore\n",
      "C:\\Users\\Admin\\AppData\\Local\\Temp\\ipykernel_25792\\2055633415.py:17: LangChainDeprecationWarning: The class `HuggingFaceEmbeddings` was deprecated in LangChain 0.2.2 and will be removed in 1.0. An updated version of the class exists in the :class:`~langchain-huggingface package and should be used instead. To use it run `pip install -U :class:`~langchain-huggingface` and import as `from :class:`~langchain_huggingface import HuggingFaceEmbeddings``.\n",
      "  embedding = HuggingFaceEmbeddings(\n"
     ]
    }
   ],
   "source": [
    "# from langchain_openai import OpenAIEmbeddings\n",
    "# from langchain_pinecone import PineconeVectorStore\n",
    "\n",
    "# embedding = OpenAIEmbeddings(model='text-embedding-3-small')\n",
    "# vector_store = PineconeVectorStore(\n",
    "#     index_name=os.getenv(\"wine-embeddings\"),\n",
    "#     embedding=embedding,\n",
    "#     pinecone_api_key=os.getenv(\"PINECONE_API_KEY\")\n",
    "# )\n",
    "\n",
    "\n",
    "import os\n",
    "from langchain_community.embeddings import HuggingFaceEmbeddings\n",
    "from langchain_pinecone import PineconeVectorStore\n",
    "\n",
    "# Hugging Face 임베딩 모델 로드\n",
    "embedding = HuggingFaceEmbeddings(\n",
    "    model_name='sentence-transformers/all-mpnet-base-v2'\n",
    ")\n",
    "\n",
    "# Pinecone 벡터스토어 연결\n",
    "vector_store = PineconeVectorStore(\n",
    "    index_name=\"wine-embeddings\",   # Pinecone에 생성한 인덱스 이름\n",
    "    embedding=embedding,\n",
    "    pinecone_api_key=os.getenv(\"PINECONE_API_KEY\")\n",
    ")\n"
   ]
  },
  {
   "cell_type": "code",
   "execution_count": 15,
   "id": "afc2a2c0",
   "metadata": {},
   "outputs": [
    {
     "data": {
      "text/plain": [
       "[Document(id='82849', metadata={}, page_content=': 82849\\ncountry: Croatia\\ndescription: This has aromas of Bartlett pear and black Mission figs. In the mouth, there are flavors of pear, lemon and fresh picked apricots.\\ndesignation: Vrhunsko Bijelo Vino\\npoints: 88\\nprice: 20.0\\nprovince: Hvar\\nregion_1: \\nregion_2: \\ntaster_name: Jeff Jenssen\\ntaster_twitter_handle: @worldwineguys\\ntitle: Zlatan Otok 2012 Vrhunsko Bijelo Vino Posip (Hvar)\\nvariety: Posip\\nwinery: Zlatan Otok'),\n",
       " Document(id='86421', metadata={}, page_content=\": 86421\\ncountry: Hungary\\ndescription: Scents of honey and citrus rind on this golden Tokaji are marked by lifted apple and pear notes. Sweet tropical fruit and vanilla notes are pleasant, but there's a slightly tinned, apple juice concentrate flavor that persists on the palate.\\ndesignation: Aszú 4 Puttonyos - 500 ml\\npoints: 85\\nprice: 30.0\\nprovince: Tokaji\\nregion_1: \\nregion_2: \\ntaster_name: Anna Lee C. Iijima\\ntaster_twitter_handle: \\ntitle: Tokaj Kereskedőház 2001 Aszú 4 Puttonyos - 500 ml  (Tokaji)\\nvariety: Furmint\\nwinery: Tokaj Kereskedőház\"),\n",
       " Document(id='35025', metadata={}, page_content=\": 35025\\ncountry: Hungary\\ndescription: Orange peel, honey and spice notes linger over a bouquet of hyacinth and freesias. So beautifully structured, it's as if each sip unleashes a wave of sweet amber honey that undulates on the palate amidst flashes of golden marmalade and a vibrant citrus acidity.\\ndesignation: Aszú 6 Puttonyos - 500 ml\\npoints: 92\\nprice: 80.0\\nprovince: Tokaj\\nregion_1: \\nregion_2: \\ntaster_name: Anna Lee C. Iijima\\ntaster_twitter_handle: \\ntitle: Tokaj Classic 1999 Aszú 6 Puttonyos - 500 ml Tokaji (Tokaj)\\nvariety: Tokaji\\nwinery: Tokaj Classic\"),\n",
       " Document(id='110856', metadata={}, page_content=': 110856\\ncountry: Hungary\\ndescription: Savory notes of hazelnut skin and smoke are countered by crisp white-peach and tangerine flavors on this brisk, refreshing Pinot Gris. Dry in style with zesty acidity, it finishes on a faintly astringent note of lemon skin. Drink now.\\ndesignation: \\npoints: 87\\nprice: 13.0\\nprovince: Mátra\\nregion_1: \\nregion_2: \\ntaster_name: Anna Lee C. Iijima\\ntaster_twitter_handle: \\ntitle: Szoke Matyás 2011 Pinot Gris (Mátra)\\nvariety: Pinot Gris\\nwinery: Szoke Matyás'),\n",
       " Document(id='18226', metadata={}, page_content=': 18226\\ncountry: Croatia\\ndescription: While softly smoky on the nose and palate, this honey-kissed Traminer is gorgeously perfumed with notes of orange blossoms and waxy white florals. Lusciously mouth quenching with a pithy, citrus-flavored mid-palate, it finishes on a tasty lime juice and white pepper note.\\ndesignation: \\npoints: 87\\nprice: 13.0\\nprovince: Podunavlje\\nregion_1: \\nregion_2: \\ntaster_name: Anna Lee C. Iijima\\ntaster_twitter_handle: \\ntitle: Iločki Podrumi 2008 Traminer (Podunavlje)\\nvariety: Traminer\\nwinery: Iločki Podrumi')]"
      ]
     },
     "execution_count": 15,
     "metadata": {},
     "output_type": "execute_result"
    }
   ],
   "source": [
    "\n",
    "# vector store에서 현재 요리의 풍미와 맛과 유사한 와인 검색\n",
    "taste_query =  \"이 요리는 판차넬라 샐러드로, 신선한 토마토와 바질의 상큼함이 빵의 고소함과 어우러져 상쾌하고 풍부한 맛을 냅니다.\"\n",
    "results = vector_store.similarity_search(\n",
    "  taste_query, \n",
    "    k=5, \n",
    "    namespace=os.getenv(\"PINECONE_NAMESPACE\")\n",
    ")\n",
    "\n",
    "results"
   ]
  },
  {
   "cell_type": "code",
   "execution_count": 16,
   "id": "a99aa789",
   "metadata": {},
   "outputs": [
    {
     "data": {
      "text/plain": [
       "[Document(id='98628', metadata={}, page_content=\": 98628\\ncountry: Italy\\ndescription: This aged expression of Motto Piane Soave drinks with such intensity, thickness and golden brilliance, you'd almost mistake it for a dessert wine. Aromas include candied fruit and sweet pineapple.\\ndesignation: Motto Piane\\npoints: 89\\nprice: 18.0\\nprovince: Veneto\\nregion_1: Soave\\nregion_2: \\ntaster_name: \\ntaster_twitter_handle: \\ntitle: Fattori 2008 Motto Piane  (Soave)\\nvariety: Garganega\\nwinery: Fattori\"),\n",
       " Document(id='95926', metadata={}, page_content=': 95926\\ncountry: Portugal\\ndescription: The Jaen grape, local to the Dão, has produced a perfumed juicy wine that is ripe and intensely full of acidity at the same time. It has only light tannins and red berry flavors that are right up front. The wine is ready to drink.\\ndesignation: Enxertia\\npoints: 87\\nprice: 35.0\\nprovince: Dão\\nregion_1: \\nregion_2: \\ntaster_name: Roger Voss\\ntaster_twitter_handle: @vossroger\\ntitle: Casa da Passarella 2012 Enxertia Jaen (Dão)\\nvariety: Jaen\\nwinery: Casa da Passarella'),\n",
       " Document(id='82849', metadata={}, page_content=': 82849\\ncountry: Croatia\\ndescription: This has aromas of Bartlett pear and black Mission figs. In the mouth, there are flavors of pear, lemon and fresh picked apricots.\\ndesignation: Vrhunsko Bijelo Vino\\npoints: 88\\nprice: 20.0\\nprovince: Hvar\\nregion_1: \\nregion_2: \\ntaster_name: Jeff Jenssen\\ntaster_twitter_handle: @worldwineguys\\ntitle: Zlatan Otok 2012 Vrhunsko Bijelo Vino Posip (Hvar)\\nvariety: Posip\\nwinery: Zlatan Otok'),\n",
       " Document(id='35791', metadata={}, page_content=\": 35791\\ncountry: France\\ndescription: Liversan makes a serious style of wine from its 125-acre vineyard, situated in the north of the Haut-Médoc. Dense, this is balanced between the black plum fruits and dry tannins. It's a wine for long-term aging, so drink from 2018.\\ndesignation: \\npoints: 90\\nprice: 26.0\\nprovince: Bordeaux\\nregion_1: Haut-Médoc\\nregion_2: \\ntaster_name: Roger Voss\\ntaster_twitter_handle: @vossroger\\ntitle: Château Liversan 2012  Haut-Médoc\\nvariety: Bordeaux-style Red Blend\\nwinery: Château Liversan\"),\n",
       " Document(id='69730', metadata={}, page_content=': 69730\\ncountry: Italy\\ndescription: Jasmine, orange blossom and aromatic herb aromas lead the nose on this round, friendly white. The soft, bright palate offers yellow peach, apricot and pear while a note of white almond backs up the finish.\\ndesignation: Daivej\\npoints: 89\\nprice: 15.0\\nprovince: Piedmont\\nregion_1: Roero\\nregion_2: \\ntaster_name: Kerin O’Keefe\\ntaster_twitter_handle: @kerinokeefe\\ntitle: Deltetto 2015 Daivej  (Roero)\\nvariety: Arneis\\nwinery: Deltetto')]"
      ]
     },
     "execution_count": 16,
     "metadata": {},
     "output_type": "execute_result"
    }
   ],
   "source": [
    "results = vector_store.similarity_search(\n",
    "   response, \n",
    "    k=5, \n",
    "    namespace=os.getenv(\"PINECONE_NAMESPACE\")\n",
    ")\n",
    "\n",
    "results"
   ]
  },
  {
   "cell_type": "code",
   "execution_count": 17,
   "id": "6c50c5f9",
   "metadata": {},
   "outputs": [],
   "source": [
    "def search_wine(dish_flavor):\n",
    "    results = vector_store.similarity_search(\n",
    "        dish_flavor, \n",
    "        k=5, \n",
    "        namespace=os.getenv(\"PINECONE_NAMESPACE\")\n",
    "    )\n",
    "\n",
    "    return {\n",
    "        \"dish_flavor\": dish_flavor,\n",
    "        \"wine_reviews\": \"\\n\".join([doc.page_content for doc in results])\n",
    "    }"
   ]
  },
  {
   "cell_type": "code",
   "execution_count": 18,
   "id": "5b2cecaf",
   "metadata": {},
   "outputs": [
    {
     "name": "stdout",
     "output_type": "stream",
     "text": [
      "이 요리는 견과류와 귀리가 들어간 그래놀라 바로, 고소하고 달콤하며 바삭한 식감이 특징입니다.\n",
      ": 98628\n",
      "country: Italy\n",
      "description: This aged expression of Motto Piane Soave drinks with such intensity, thickness and golden brilliance, you'd almost mistake it for a dessert wine. Aromas include candied fruit and sweet pineapple.\n",
      "designation: Motto Piane\n",
      "points: 89\n",
      "price: 18.0\n",
      "province: Veneto\n",
      "region_1: Soave\n",
      "region_2: \n",
      "taster_name: \n",
      "taster_twitter_handle: \n",
      "title: Fattori 2008 Motto Piane  (Soave)\n",
      "variety: Garganega\n",
      "winery: Fattori\n",
      ": 95926\n",
      "country: Portugal\n",
      "description: The Jaen grape, local to the Dão, has produced a perfumed juicy wine that is ripe and intensely full of acidity at the same time. It has only light tannins and red berry flavors that are right up front. The wine is ready to drink.\n",
      "designation: Enxertia\n",
      "points: 87\n",
      "price: 35.0\n",
      "province: Dão\n",
      "region_1: \n",
      "region_2: \n",
      "taster_name: Roger Voss\n",
      "taster_twitter_handle: @vossroger\n",
      "title: Casa da Passarella 2012 Enxertia Jaen (Dão)\n",
      "variety: Jaen\n",
      "winery: Casa da Passarella\n",
      ": 82849\n",
      "country: Croatia\n",
      "description: This has aromas of Bartlett pear and black Mission figs. In the mouth, there are flavors of pear, lemon and fresh picked apricots.\n",
      "designation: Vrhunsko Bijelo Vino\n",
      "points: 88\n",
      "price: 20.0\n",
      "province: Hvar\n",
      "region_1: \n",
      "region_2: \n",
      "taster_name: Jeff Jenssen\n",
      "taster_twitter_handle: @worldwineguys\n",
      "title: Zlatan Otok 2012 Vrhunsko Bijelo Vino Posip (Hvar)\n",
      "variety: Posip\n",
      "winery: Zlatan Otok\n",
      ": 35791\n",
      "country: France\n",
      "description: Liversan makes a serious style of wine from its 125-acre vineyard, situated in the north of the Haut-Médoc. Dense, this is balanced between the black plum fruits and dry tannins. It's a wine for long-term aging, so drink from 2018.\n",
      "designation: \n",
      "points: 90\n",
      "price: 26.0\n",
      "province: Bordeaux\n",
      "region_1: Haut-Médoc\n",
      "region_2: \n",
      "taster_name: Roger Voss\n",
      "taster_twitter_handle: @vossroger\n",
      "title: Château Liversan 2012  Haut-Médoc\n",
      "variety: Bordeaux-style Red Blend\n",
      "winery: Château Liversan\n",
      ": 69730\n",
      "country: Italy\n",
      "description: Jasmine, orange blossom and aromatic herb aromas lead the nose on this round, friendly white. The soft, bright palate offers yellow peach, apricot and pear while a note of white almond backs up the finish.\n",
      "designation: Daivej\n",
      "points: 89\n",
      "price: 15.0\n",
      "province: Piedmont\n",
      "region_1: Roero\n",
      "region_2: \n",
      "taster_name: Kerin O’Keefe\n",
      "taster_twitter_handle: @kerinokeefe\n",
      "title: Deltetto 2015 Daivej  (Roero)\n",
      "variety: Arneis\n",
      "winery: Deltetto\n"
     ]
    }
   ],
   "source": [
    "runnable = RunnableLambda(search_wine)\n",
    "response = runnable.invoke(response)\n",
    "print(response['dish_flavor'])\n",
    "print(response['wine_reviews'])"
   ]
  },
  {
   "cell_type": "code",
   "execution_count": 19,
   "id": "799334ca",
   "metadata": {},
   "outputs": [],
   "source": [
    "\n",
    "from pinecone import Pinecone\n",
    "pc = Pinecone(api_key=os.getenv(\"PINECONE_API_KEY\"))"
   ]
  },
  {
   "cell_type": "code",
   "execution_count": 20,
   "id": "7602d666",
   "metadata": {},
   "outputs": [],
   "source": [
    "# 기존 인덱스 정보 확인 (차원수 등)\n",
    "existing_index = pc.Index(\"wine-embeddings\")\n",
    "index_stats = existing_index.describe_index_stats()"
   ]
  },
  {
   "cell_type": "code",
   "execution_count": 21,
   "id": "a2025d72",
   "metadata": {},
   "outputs": [
    {
     "data": {
      "text/plain": [
       "{'dimension': 768,\n",
       " 'index_fullness': 0.0,\n",
       " 'metric': 'cosine',\n",
       " 'namespaces': {'': {'vector_count': 129971}},\n",
       " 'total_vector_count': 129971,\n",
       " 'vector_type': 'dense'}"
      ]
     },
     "execution_count": 21,
     "metadata": {},
     "output_type": "execute_result"
    }
   ],
   "source": [
    "index_stats"
   ]
  },
  {
   "cell_type": "code",
   "execution_count": 22,
   "id": "bab2f399",
   "metadata": {},
   "outputs": [
    {
     "data": {
      "text/plain": [
       "[Document(id='35025', metadata={}, page_content=\": 35025\\ncountry: Hungary\\ndescription: Orange peel, honey and spice notes linger over a bouquet of hyacinth and freesias. So beautifully structured, it's as if each sip unleashes a wave of sweet amber honey that undulates on the palate amidst flashes of golden marmalade and a vibrant citrus acidity.\\ndesignation: Aszú 6 Puttonyos - 500 ml\\npoints: 92\\nprice: 80.0\\nprovince: Tokaj\\nregion_1: \\nregion_2: \\ntaster_name: Anna Lee C. Iijima\\ntaster_twitter_handle: \\ntitle: Tokaj Classic 1999 Aszú 6 Puttonyos - 500 ml Tokaji (Tokaj)\\nvariety: Tokaji\\nwinery: Tokaj Classic\"),\n",
       " Document(id='35791', metadata={}, page_content=\": 35791\\ncountry: France\\ndescription: Liversan makes a serious style of wine from its 125-acre vineyard, situated in the north of the Haut-Médoc. Dense, this is balanced between the black plum fruits and dry tannins. It's a wine for long-term aging, so drink from 2018.\\ndesignation: \\npoints: 90\\nprice: 26.0\\nprovince: Bordeaux\\nregion_1: Haut-Médoc\\nregion_2: \\ntaster_name: Roger Voss\\ntaster_twitter_handle: @vossroger\\ntitle: Château Liversan 2012  Haut-Médoc\\nvariety: Bordeaux-style Red Blend\\nwinery: Château Liversan\"),\n",
       " Document(id='119275', metadata={}, page_content=\": 119275\\ncountry: Greece\\ndescription: This white blend starts with a nose of toasted spice and lemon peel, leading into a fresh, citric character heavy in minerality. Clean and lively, it's a great choice for spicy dishes or drinking on a hot day.\\ndesignation: Adoli Ghis\\npoints: 87\\nprice: 19.0\\nprovince: Greece\\nregion_1: \\nregion_2: \\ntaster_name: Susan Kostrzewa\\ntaster_twitter_handle: @suskostrzewa\\ntitle: Antonopoulos 2005 Adoli Ghis White (Greece)\\nvariety: White Blend\\nwinery: Antonopoulos\"),\n",
       " Document(id='22970', metadata={}, page_content=': 22970\\ncountry: Hungary\\ndescription: Intense notes of white flower and lemon peel perfume this lovely aromatic white. Dry on the palate, with tart tangerine and lime flavors, it is marked by hints of blossom and zesty lime pith. Crisp and tonic on the finish. Drink now.\\ndesignation: \\npoints: 87\\nprice: 13.0\\nprovince: Mátra\\nregion_1: \\nregion_2: \\ntaster_name: Anna Lee C. Iijima\\ntaster_twitter_handle: \\ntitle: Szoke Matyás 2011 Irsai Oliver (Mátra)\\nvariety: Irsai Oliver\\nwinery: Szoke Matyás'),\n",
       " Document(id='110989', metadata={}, page_content=\": 110989\\ncountry: Italy\\ndescription: Here's a light-bodied casual wine that has subdued aromas suggesting white flower, orchard fruit and a hint of almond. You can find traces of the nose on the extremely simple diluted palate.\\ndesignation: Singan\\npoints: 84\\nprice: 20.0\\nprovince: Veneto\\nregion_1: Soave\\nregion_2: \\ntaster_name: Kerin O’Keefe\\ntaster_twitter_handle: @kerinokeefe\\ntitle: Adalia 2015 Singan  (Soave)\\nvariety: White Blend\\nwinery: Adalia\")]"
      ]
     },
     "execution_count": 22,
     "metadata": {},
     "output_type": "execute_result"
    }
   ],
   "source": [
    "query = \"달콤한 맛을 느낄 수 있는 와인\"\n",
    "\n",
    "results = vector_store.similarity_search(\n",
    "    query, \n",
    "    k=5, \n",
    "    namespace=\"\"\n",
    ")\n",
    "\n",
    "results"
   ]
  },
  {
   "cell_type": "code",
   "execution_count": 23,
   "id": "a334a9a3",
   "metadata": {},
   "outputs": [
    {
     "name": "stdout",
     "output_type": "stream",
     "text": [
      "{'dimension': 768,\n",
      " 'index_fullness': 0.0,\n",
      " 'metric': 'cosine',\n",
      " 'namespaces': {'': {'vector_count': 129971}},\n",
      " 'total_vector_count': 129971,\n",
      " 'vector_type': 'dense'}\n"
     ]
    }
   ],
   "source": [
    "index_stats = existing_index.describe_index_stats()\n",
    "print(index_stats)\n"
   ]
  },
  {
   "cell_type": "code",
   "execution_count": 24,
   "id": "6fdbfdfc",
   "metadata": {},
   "outputs": [],
   "source": [
    "# 국가별 필터링\n",
    "def search_wine_by_country(query, country=\"US\"):\n",
    "    results = vector_store.similarity_search(\n",
    "        query,\n",
    "        k=5,\n",
    "        filter={\"country\": country},\n",
    "        namespace=\"\"\n",
    "    )\n",
    "    return results"
   ]
  },
  {
   "cell_type": "code",
   "execution_count": 25,
   "id": "d4692bce",
   "metadata": {},
   "outputs": [
    {
     "data": {
      "text/plain": [
       "[]"
      ]
     },
     "execution_count": 25,
     "metadata": {},
     "output_type": "execute_result"
    }
   ],
   "source": [
    "search_wine_by_country(query)"
   ]
  },
  {
   "cell_type": "code",
   "execution_count": 26,
   "id": "0741ccf8",
   "metadata": {},
   "outputs": [],
   "source": [
    "# recommend_wine"
   ]
  },
  {
   "cell_type": "code",
   "execution_count": 27,
   "id": "6353b17a",
   "metadata": {},
   "outputs": [],
   "source": [
    "WINE_SOMMELIER_SYSTEM = \"\"\"\n",
    "            Persona:\n",
    "\n",
    "            As a sommelier, I possess an extensive knowledge of wines, including grape varieties, regions, tasting notes, and food pairings. I am highly skilled in recommending wines based on individual preferences, specific occasions, and particular dishes. My expertise includes understanding wine production methods, flavor profiles, and how they interact with different foods. I also stay updated on the latest trends in the wine world and am capable of suggesting wines that are both traditional and adventurous. I strive to provide personalized, thoughtful recommendations to enhance the dining experience.\n",
    "\n",
    "            Role:\n",
    "\n",
    "            1. Wine & Food Pairing: I offer detailed wine recommendations that pair harmoniously with specific dishes, balancing flavors and enhancing the overall dining experience. Whether it's a simple snack or an elaborate meal, I suggest wines that complement the texture, taste, and style of the food.\n",
    "            2. Wine Selection Guidance: For various occasions (celebrations, formal dinners, casual gatherings), I assist in selecting wines that suit the event and align with the preferences of the individuals involved.\n",
    "            3. Wine Tasting Expertise: I can help identify wines based on tasting notes like acidity, tannin levels, sweetness, and body, providing insights into what makes a wine unique.\n",
    "            4. Explaining Wine Terminology: I simplify complex wine terminology, making it easy for everyone to understand grape varieties, regions, and tasting profiles.\n",
    "            5. Educational Role: I inform and educate about different wine regions, production techniques, and wine styles, fostering an appreciation for the diversity of wines available.\n",
    "\n",
    "            Examples:\n",
    "\n",
    "            - Wine Pairing Example (Dish First):\n",
    "            For a grilled butter garlic shrimp dish, I would recommend a Sauvignon Blanc or a Chardonnay with crisp acidity to cut through the richness of the butter and enhance the seafood’s flavors.\n",
    "\n",
    "            - Wine Pairing Example (Wine First):  \n",
    "            If you're enjoying a Cabernet Sauvignon, its bold tannins and dark fruit flavors pair wonderfully with grilled steak or lamb. The richness of the meat complements the intensity of the wine.\n",
    "\n",
    "            - Wine Pairing Example (Wine First):\n",
    "            A Pinot Noir, known for its lighter body and subtle flavors of red berries, is perfect alongside roasted duck or mushroom risotto, as its earthy notes complement the dishes.\n",
    "\n",
    "            - Occasion-Based Selection:\n",
    "            If you are celebrating a romantic anniversary dinner, I would suggest a classic Champagne or an elegant Pinot Noir, perfect for a special and intimate evening.\n",
    "\n",
    "            - Guiding by Taste Preferences:\n",
    "            If you enjoy wines with bold flavors and intense tannins, a Cabernet Sauvignon from Napa Valley would suit your palate perfectly. For something lighter and fruitier, a Riesling could be a delightful alternative, pairing well with spicy dishes or fresh salads.\n",
    "        \"\"\""
   ]
  },
  {
   "cell_type": "code",
   "execution_count": 28,
   "id": "76052dc3",
   "metadata": {},
   "outputs": [],
   "source": [
    "def recommend_wine_chain(query):\n",
    "    prompt = ChatPromptTemplate.from_messages([\n",
    "        (\"system\", WINE_SOMMELIER_SYSTEM),\n",
    "        (\"human\", \"\"\"\n",
    "            와인 페이링 추천에 아래 요리/맛, 와인 리뷰만을 참고하여 한글로 답변해 주시기 바랍니다.\n",
    "\n",
    "            요리/맛:\n",
    "            {dish_flavor}\n",
    "\n",
    "            와인 리뷰:\n",
    "            {wine_reviews}\n",
    "        \"\"\")\n",
    "    ])\n",
    "\n",
    "    output_parser = StrOutputParser()\n",
    "    chain = prompt | llm | output_parser\n",
    "    \n",
    "    return chain"
   ]
  },
  {
   "cell_type": "markdown",
   "id": "623724a8",
   "metadata": {},
   "source": [
    "# chain 연결"
   ]
  },
  {
   "cell_type": "code",
   "execution_count": 29,
   "id": "49d70d6f",
   "metadata": {},
   "outputs": [],
   "source": [
    "\n",
    "runnable_1 = RunnableLambda(describe_dish_flavor_chain)\n",
    "runnable_2 = RunnableLambda(search_wine)\n",
    "runnable_3 = RunnableLambda(recommend_wine_chain)\n",
    "\n",
    "chain = runnable_1 | runnable_2 | runnable_3"
   ]
  },
  {
   "cell_type": "code",
   "execution_count": 30,
   "id": "08d87c9a",
   "metadata": {},
   "outputs": [
    {
     "name": "stdout",
     "output_type": "stream",
     "text": [
      "Note: you may need to restart the kernel to use updated packages.\n"
     ]
    }
   ],
   "source": [
    "\n",
    "%pip install -qU grandalf"
   ]
  },
  {
   "cell_type": "code",
   "execution_count": 31,
   "id": "1a81dcf6",
   "metadata": {},
   "outputs": [
    {
     "name": "stdout",
     "output_type": "stream",
     "text": [
      "+----------------------------------+ \n",
      "| describe_dish_flavor_chain_input | \n",
      "+----------------------------------+ \n",
      "                  *                  \n",
      "                  *                  \n",
      "                  *                  \n",
      "           +------------+            \n",
      "           | ChatOpenAI |            \n",
      "           +------------+            \n",
      "                  *                  \n",
      "                  *                  \n",
      "                  *                  \n",
      "          +-------------+            \n",
      "          | search_wine |            \n",
      "          +-------------+            \n",
      "                  *                  \n",
      "                  *                  \n",
      "                  *                  \n",
      "           +------------+            \n",
      "           | ChatOpenAI |            \n",
      "           +------------+            \n",
      "                  *                  \n",
      "                  *                  \n",
      "                  *                  \n",
      "  +-----------------------------+    \n",
      "  | recommend_wine_chain_output |    \n",
      "  +-----------------------------+    \n"
     ]
    }
   ],
   "source": [
    "# 음식이미지 링크 > 음식찾아서 음식맛묘사 \n",
    "# > 음식맛이 와인평에 있는 와인 검색  \n",
    "# > 와인평+음식맛 > 소믈리에메시지\n",
    "chain.get_graph().print_ascii()"
   ]
  },
  {
   "cell_type": "code",
   "execution_count": 32,
   "id": "c9add805",
   "metadata": {},
   "outputs": [],
   "source": [
    "response = chain.invoke(\n",
    "  {\n",
    "    \"image_url\": \"https://www.stockfood.com/Sites/StockFood/Documents/Homepage/News//en/16.jpg\"\n",
    "  }\n",
    ")"
   ]
  },
  {
   "cell_type": "code",
   "execution_count": 33,
   "id": "d032bce9",
   "metadata": {},
   "outputs": [
    {
     "data": {
      "text/plain": [
       "'요리/맛에 대한 설명이 없으므로, 제공된 와인 리뷰를 바탕으로 와인 페어링을 추천해드리겠습니다. 각 와인의 특징을 고려하여 적절한 요리와의 페어링을 제안합니다.\\n\\n1. **Szoke Matyás 2011 Pinot Gris (Mátra)**\\n   - **특징**: 헤이즐넛과 연기의 감칠맛, 흰 복숭아와 귤의 상큼한 맛, 레몬 껍질의 약간 떫은 마무리.\\n   - **페어링 추천**: 이 와인은 해산물 요리와 잘 어울립니다. 특히, 레몬과 허브로 양념한 구운 생선이나 해산물 샐러드와 함께 즐기시면 좋습니다. 와인의 산미가 해산물의 신선함을 돋보이게 할 것입니다.\\n\\n2. **Szoke Matyás 2011 Irsai Oliver (Mátra)**\\n   - **특징**: 흰 꽃과 레몬 껍질의 강렬한 향, 타르트한 귤과 라임의 맛, 꽃과 라임 껍질의 힌트.\\n   - **페어링 추천**: 이 와인은 가벼운 아시아 요리, 특히 레몬그라스와 생강을 사용한 태국식 샐러드나 스프링롤과 잘 어울립니다. 와인의 아로마틱한 특성이 요리의 향신료와 조화를 이룰 것입니다.\\n\\n3. **Tokaj Classic 1999 Aszú 6 Puttonyos (Tokaj)**\\n   - **특징**: 오렌지 껍질, 꿀, 향신료, 금빛 마멀레이드, 생동감 있는 시트러스 산미.\\n   - **페어링 추천**: 이 달콤한 와인은 블루 치즈나 푸아그라와 같은 진한 맛의 음식과 잘 어울립니다. 또한, 디저트로는 아몬드 타르트나 크렘 브륄레와 함께 즐기시면 좋습니다.\\n\\n4. **Budimir 2013 Župska Tamjanika (Župa)**\\n   - **특징**: 구스베리, 망고, 흰 꽃의 향, 흰 복숭아와 노란 복숭아의 맛.\\n   - **페어링 추천**: 이 와인은 과일 샐러드나 가벼운 치즈 플래터와 잘 어울립니다. 특히, 신선한 과일과 함께 즐기면 와인의 과일 향이 더욱 돋보일 것입니다.\\n\\n5. **Tokaj Kereskedőház 2001 Aszú 4 Puttonyos (Tokaji)**\\n   - **특징**: 꿀과 시트러스 껍질의 향, 열대 과일과 바닐라의 맛.\\n   - **페어링 추천**: 이 와인은 크림이 들어간 디저트, 예를 들어 바닐라 아이스크림이나 크림치즈 케이크와 잘 어울립니다. 와인의 달콤함이 디저트의 풍미를 한층 더해줄 것입니다.\\n\\n각 와인의 특성을 고려하여 적절한 요리와의 페어링을 제안드렸습니다. 즐거운 와인 경험이 되시길 바랍니다!'"
      ]
     },
     "execution_count": 33,
     "metadata": {},
     "output_type": "execute_result"
    }
   ],
   "source": [
    "response"
   ]
  },
  {
   "cell_type": "code",
   "execution_count": null,
   "id": "1b5a70b9",
   "metadata": {},
   "outputs": [],
   "source": []
  },
  {
   "cell_type": "code",
   "execution_count": null,
   "id": "a7ff1bfa",
   "metadata": {},
   "outputs": [],
   "source": []
  },
  {
   "cell_type": "code",
   "execution_count": null,
   "id": "a9ecc4ea",
   "metadata": {},
   "outputs": [],
   "source": []
  },
  {
   "cell_type": "code",
   "execution_count": null,
   "id": "21835c65",
   "metadata": {},
   "outputs": [],
   "source": []
  },
  {
   "cell_type": "code",
   "execution_count": null,
   "id": "e96c4bba",
   "metadata": {},
   "outputs": [],
   "source": []
  },
  {
   "cell_type": "code",
   "execution_count": null,
   "id": "fedd140a",
   "metadata": {},
   "outputs": [],
   "source": []
  }
 ],
 "metadata": {
  "kernelspec": {
   "display_name": "prompting_env",
   "language": "python",
   "name": "python3"
  },
  "language_info": {
   "codemirror_mode": {
    "name": "ipython",
    "version": 3
   },
   "file_extension": ".py",
   "mimetype": "text/x-python",
   "name": "python",
   "nbconvert_exporter": "python",
   "pygments_lexer": "ipython3",
   "version": "3.12.11"
  }
 },
 "nbformat": 4,
 "nbformat_minor": 5
}
