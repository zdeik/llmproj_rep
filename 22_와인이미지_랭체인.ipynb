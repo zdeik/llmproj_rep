{
 "cells": [
  {
   "cell_type": "code",
   "execution_count": 2,
   "id": "7f2ded15",
   "metadata": {},
   "outputs": [],
   "source": [
    "from dotenv import load_dotenv\n",
    "import os\n",
    "from langchain_openai import ChatOpenAI\n",
    "\n",
    "load_dotenv()\n",
    "\n",
    "llm = ChatOpenAI(model=\"gpt-4o\", temperature=0) "
   ]
  },
  {
   "cell_type": "code",
   "execution_count": 3,
   "id": "518b56e8",
   "metadata": {},
   "outputs": [
    {
     "data": {
      "text/plain": [
       "ChatPromptTemplate(input_variables=['image_url', 'text'], input_types={}, partial_variables={}, messages=[SystemMessagePromptTemplate(prompt=PromptTemplate(input_variables=[], input_types={}, partial_variables={}, template='You are an expert sommelier with extensive knowledge in wine, wine pairing, and the intricacies of food and beverage service. Your primary role is to assist users in selecting the best wines and pairing them perfectly with meals. You have a deep understanding of various wine regions, grape varieties, wine production methods, and current trends in the industry. You possess a refined palate, able to discern subtle flavors and characteristics in wines. Your advice is always clear, approachable, and tailored to each user’s preferences and specific dining context. You also educate users on wine appreciation, proper wine service, and the art of creating a harmonious dining experience. Your demeanor is professional, courteous, and passionate about wine culture, aiming to make each wine selection and pairing a memorable experience for users.'), additional_kwargs={}), HumanMessagePromptTemplate(prompt=[PromptTemplate(input_variables=['text'], input_types={}, partial_variables={}, template='{text}'), ImagePromptTemplate(input_variables=['image_url'], input_types={}, partial_variables={}, template={'url': '{image_url}'})], additional_kwargs={})])"
      ]
     },
     "execution_count": 3,
     "metadata": {},
     "output_type": "execute_result"
    }
   ],
   "source": [
    "\n",
    "from langchain.prompts import ChatPromptTemplate\n",
    "SYSTEM_PROMPT = \"You are an expert sommelier with extensive knowledge in wine, wine pairing, and the intricacies of food and beverage service. Your primary role is to assist users in selecting the best wines and pairing them perfectly with meals. You have a deep understanding of various wine regions, grape varieties, wine production methods, and current trends in the industry. You possess a refined palate, able to discern subtle flavors and characteristics in wines. Your advice is always clear, approachable, and tailored to each user’s preferences and specific dining context. You also educate users on wine appreciation, proper wine service, and the art of creating a harmonious dining experience. Your demeanor is professional, courteous, and passionate about wine culture, aiming to make each wine selection and pairing a memorable experience for users.\"\n",
    "wine_query = \"이 와인에 어울리는 요리에는 어떤 것들이 있을까요?\"\n",
    "\n",
    "chat_template = ChatPromptTemplate.from_messages(\n",
    "  [\n",
    "    ('system', SYSTEM_PROMPT),\n",
    "    ('human', [ {'type': 'text', 'text':'{text}'},\n",
    "                {'type':'image_url', 'image_url':  {'url': '{image_url}'}}])\n",
    "  ]\n",
    ")\n",
    "chat_template"
   ]
  },
  {
   "cell_type": "markdown",
   "id": "4489d3c6",
   "metadata": {},
   "source": [
    "# recomment_dish_chain 용 랭체인 프롬프트"
   ]
  },
  {
   "cell_type": "code",
   "execution_count": 4,
   "id": "aa2ebe1f",
   "metadata": {},
   "outputs": [
    {
     "data": {
      "text/plain": [
       "'Primitivo 와인은 일반적으로 풍부하고 과일 향이 강하며, 약간의 스파이시한 맛이 특징입니다. 이 와인에 어울리는 요리로는 다음과 같은 것들이 있습니다:\\n\\n1. **그릴드 스테이크**: 육즙이 풍부한 스테이크는 Primitivo의 풍부한 과일 향과 잘 어울립니다.\\n\\n2. **바비큐 립**: 달콤하고 매콤한 바비큐 소스가 Primitivo의 스파이시한 노트와 조화를 이룹니다.\\n\\n3. **라자냐**: 토마토 소스와 치즈가 듬뿍 들어간 라자냐는 와인의 풍미를 잘 받쳐줍니다.\\n\\n4. **양고기 요리**: 허브와 함께 구운 양고기는 Primitivo의 복합적인 맛과 잘 어울립니다.\\n\\n5. **치즈 플래터**: 특히 고다, 체다 같은 강한 맛의 치즈와 잘 어울립니다.\\n\\n이 와인은 다양한 고기 요리와 잘 어울리며, 풍부한 맛을 가진 음식과 함께 즐기기에 좋습니다.'"
      ]
     },
     "execution_count": 4,
     "metadata": {},
     "output_type": "execute_result"
    }
   ],
   "source": [
    "from langchain_core.output_parsers import StrOutputParser\n",
    "output_parser = StrOutputParser()\n",
    "chain = chat_template|llm|output_parser\n",
    "response = chain.invoke(\n",
    "  {\n",
    "    'text': wine_query,\n",
    "    'image_url': 'https://images.vivino.com/thumbs/Z90I3--JRKWlpMA8wdLY-Q_pb_x600.png'\n",
    "  }\n",
    ")\n",
    "response"
   ]
  },
  {
   "cell_type": "code",
   "execution_count": 5,
   "id": "db246429",
   "metadata": {},
   "outputs": [],
   "source": [
    "def recommend_dishes_chain(query):\n",
    "    \n",
    "  chat_template = ChatPromptTemplate.from_messages(\n",
    "    [\n",
    "      ('system', SYSTEM_PROMPT),\n",
    "      ('human', [ {'type': 'text', 'text':query['text']},\n",
    "                  {'type':'image_url', 'image_url':  {'url': query['image_url']}}])\n",
    "    ]\n",
    "  )\n",
    "  chain = chat_template|llm|output_parser\n",
    "  return chain"
   ]
  },
  {
   "cell_type": "code",
   "execution_count": 6,
   "id": "27f7dde1",
   "metadata": {},
   "outputs": [],
   "source": [
    "query_1 = {\n",
    "  'text':wine_query,\n",
    "  'image_url': 'https://images.vivino.com/thumbs/Z90I3--JRKWlpMA8wdLY-Q_pb_x600.png'\n",
    "}\n",
    "rec_dish_chain = recommend_dishes_chain(query_1)"
   ]
  },
  {
   "cell_type": "code",
   "execution_count": 7,
   "id": "f41fd730",
   "metadata": {},
   "outputs": [
    {
     "data": {
      "text/plain": [
       "'Primitivo 와인은 일반적으로 풍부하고 과일 향이 강하며, 약간의 스파이시한 맛이 특징입니다. 이 와인에 어울리는 요리로는 다음과 같은 것들이 있습니다:\\n\\n1. **그릴드 스테이크**: 육즙이 풍부한 스테이크는 Primitivo의 풍부한 과일 향과 잘 어울립니다.\\n\\n2. **바비큐 립**: 달콤하고 매콤한 바비큐 소스가 Primitivo의 스파이시한 노트와 조화를 이룹니다.\\n\\n3. **라자냐**: 토마토 소스와 치즈가 듬뿍 들어간 라자냐는 와인의 풍미를 잘 받쳐줍니다.\\n\\n4. **양고기 요리**: 허브와 함께 조리한 양고기는 Primitivo의 복합적인 맛과 잘 어울립니다.\\n\\n5. **치즈 플래터**: 특히 고다, 체다 같은 강한 맛의 치즈와 잘 어울립니다.\\n\\n이 와인은 다양한 고기 요리와 잘 어울리며, 풍부한 맛을 가진 음식과 함께 즐기기에 좋습니다.'"
      ]
     },
     "execution_count": 7,
     "metadata": {},
     "output_type": "execute_result"
    }
   ],
   "source": [
    "rec_dish_chain.invoke(query_1)"
   ]
  },
  {
   "cell_type": "code",
   "execution_count": 8,
   "id": "ea11e0c0",
   "metadata": {},
   "outputs": [
    {
     "data": {
      "text/plain": [
       "'Primitivo 와인은 일반적으로 풍부하고 과일 향이 강하며, 약간의 스파이시한 맛이 특징입니다. 이 와인에 어울리는 요리로는 다음과 같은 것들이 있습니다:\\n\\n1. **그릴드 스테이크**: 육즙이 풍부한 스테이크는 Primitivo의 풍부한 과일 향과 잘 어울립니다.\\n\\n2. **바비큐 립**: 달콤하고 매콤한 바비큐 소스가 Primitivo의 스파이시한 노트와 조화를 이룹니다.\\n\\n3. **라자냐**: 토마토 소스와 치즈가 듬뿍 들어간 라자냐는 와인의 풍미를 잘 받쳐줍니다.\\n\\n4. **양고기 요리**: 허브와 함께 조리한 양고기는 Primitivo의 복합적인 맛과 잘 어울립니다.\\n\\n5. **치즈 플래터**: 특히 고다, 체다 같은 강한 맛의 치즈와 잘 어울립니다.\\n\\n이 와인은 다양한 고기 요리와 잘 어울리며, 풍부한 맛을 가진 음식과 함께 즐기기에 좋습니다.'"
      ]
     },
     "execution_count": 8,
     "metadata": {},
     "output_type": "execute_result"
    }
   ],
   "source": [
    "from langchain_core.runnables import RunnableLambda\n",
    "runnable = RunnableLambda(recommend_dishes_chain)\n",
    "response = runnable.invoke(query_1)\n",
    "response"
   ]
  },
  {
   "cell_type": "markdown",
   "id": "ce92f529",
   "metadata": {},
   "source": [
    "# describe_dish_flavor_chain 용 랭체인 프롬프트"
   ]
  },
  {
   "cell_type": "code",
   "execution_count": 27,
   "id": "2502d325",
   "metadata": {},
   "outputs": [],
   "source": [
    "def describe_dish_flavor_chain(query):\n",
    "  #prompttemplate \n",
    "  # parser\n",
    "  #chain\n",
    "  return ''"
   ]
  },
  {
   "cell_type": "code",
   "execution_count": 28,
   "id": "3a895cbe",
   "metadata": {},
   "outputs": [],
   "source": [
    "dish_system_prompt = \"\"\"\n",
    "            Persona:\n",
    "            As a flavor analysis system, I am equipped with a deep understanding of food ingredients, cooking methods, and sensory properties such as taste, texture, and aroma. I can assess and break down the flavor profiles of dishes by identifying the dominant tastes (sweet, sour, salty, bitter, umami) as well as subtler elements like spice levels, richness, freshness, and aftertaste. I am able to compare different foods based on their ingredients and cooking techniques, while also considering cultural influences and typical pairings. My goal is to provide a detailed analysis of a dish’s flavor profile to help users better understand what makes it unique or to aid in choosing complementary foods and drinks.\n",
    "\n",
    "            Role:\n",
    "\n",
    "            1. Flavor Identification: I analyze the dominant and secondary flavors of a dish, highlighting key taste elements such as sweetness, acidity, bitterness, saltiness, umami, and the presence of spices or herbs.\n",
    "            2. Texture and Aroma Analysis: Beyond taste, I assess the mouthfeel and aroma of the dish, taking into account how texture (e.g., creamy, crunchy) and scents (e.g., smoky, floral) contribute to the overall experience.\n",
    "            3. Ingredient Breakdown: I evaluate the role each ingredient plays in the dish’s flavor, including their impact on the dish's balance, richness, or intensity.\n",
    "            4. Culinary Influence: I consider the cultural or regional influences that shape the dish, understanding how traditional cooking methods or unique ingredients affect the overall taste.\n",
    "            5. Food and Drink Pairing: Based on the dish's flavor profile, I suggest complementary food or drink pairings that enhance or balance the dish’s qualities.\n",
    "\n",
    "            Examples:\n",
    "\n",
    "            - Dish Flavor Breakdown:\n",
    "            For a butter garlic shrimp, I identify the richness from the butter, the pungent aroma of garlic, and the subtle sweetness of the shrimp. The dish balances richness with a touch of saltiness, and the soft, tender texture of the shrimp is complemented by the slight crispness from grilling.\n",
    "\n",
    "            - Texture and Aroma Analysis:\n",
    "            A creamy mushroom risotto has a smooth, velvety texture due to the creamy broth and butter. The earthy aroma from the mushrooms enhances the umami flavor, while a sprinkle of Parmesan adds a savory touch with a mild sharpness.\n",
    "\n",
    "            - Ingredient Role Assessment:\n",
    "            In a spicy Thai curry, the coconut milk provides a rich, creamy base, while the lemongrass and lime add freshness and citrus notes. The chilies bring the heat, and the balance between sweet, sour, and spicy elements creates a dynamic flavor profile.\n",
    "\n",
    "            - Cultural Influence:\n",
    "            A traditional Italian margherita pizza draws on the classic combination of fresh tomatoes, mozzarella, and basil. The simplicity of the ingredients allows the flavors to shine, with the tanginess of the tomato sauce balancing the richness of the cheese and the freshness of the basil.\n",
    "\n",
    "            - Food Pairing Example:\n",
    "            For a rich chocolate cake, I would recommend a sweet dessert wine like Port to complement the bitterness of the chocolate, or a light espresso to contrast the sweetness and enhance the richness of the dessert.\n",
    "        \"\"\""
   ]
  },
  {
   "cell_type": "code",
   "execution_count": 29,
   "id": "727bec6a",
   "metadata": {},
   "outputs": [],
   "source": [
    "def describe_dish_flavor_chain(query):\n",
    "    # 이미지가 있는 경우와 없는 경우를 구분하여 처리\n",
    "    if query.get(\"image_urls\"):\n",
    "        # 이미지가 있는 경우: 멀티모달 프롬프트\n",
    "        messages = [\n",
    "            (\"system\", dish_system_prompt),\n",
    "            (\"human\", [ #\"human\" 으로 해도 무방 - 역할 태그의 차이가 크지 않음\n",
    "                {\"type\": \"text\", \"text\": \"이 요리의 이름과 맛을 한 문장으로 요약해주세요.\"},\n",
    "                *[{\"type\": \"image_url\", \"image_url\": {\"url\": url}} for url in query[\"image_urls\"]]\n",
    "            ])\n",
    "        ]\n",
    "    else:\n",
    "        # 텍스트만 있는 경우 (이미지 없이는 요리 설명이 어려우므로 안내 메시지)\n",
    "        messages = [\n",
    "            (\"system\", dish_system_prompt),\n",
    "            (\"user\", \"요리 이미지가 제공되지 않았습니다. 요리 이미지를 업로드해주시면 정확한 분석을 도와드리겠습니다.\")\n",
    "        ]\n",
    "    \n",
    "    prompt = ChatPromptTemplate.from_messages(messages)\n",
    "    output_parser = StrOutputParser()\n",
    "    \n",
    "    chain = prompt | llm | output_parser\n",
    "    return chain"
   ]
  },
  {
   "cell_type": "code",
   "execution_count": 30,
   "id": "9ed41b41",
   "metadata": {},
   "outputs": [
    {
     "name": "stdout",
     "output_type": "stream",
     "text": [
      "이 요리는 견과류와 귀리가 들어간 그래놀라 바로, 고소하고 달콤한 맛이 특징입니다.\n"
     ]
    }
   ],
   "source": [
    "runnable = RunnableLambda(describe_dish_flavor_chain)\n",
    "response = runnable.invoke({\n",
    "    \"image_urls\": [\"https://www.stockfood.com/Sites/StockFood/Documents/Homepage/News//en/16.jpg\"]\n",
    "})\n",
    "\n",
    "print(response)"
   ]
  }
 ],
 "metadata": {
  "kernelspec": {
   "display_name": "prompting_env",
   "language": "python",
   "name": "python3"
  },
  "language_info": {
   "codemirror_mode": {
    "name": "ipython",
    "version": 3
   },
   "file_extension": ".py",
   "mimetype": "text/x-python",
   "name": "python",
   "nbconvert_exporter": "python",
   "pygments_lexer": "ipython3",
   "version": "3.12.11"
  }
 },
 "nbformat": 4,
 "nbformat_minor": 5
}
