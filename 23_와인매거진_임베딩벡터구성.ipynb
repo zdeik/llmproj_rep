{
 "cells": [
  {
   "cell_type": "code",
   "execution_count": 1,
   "id": "1b636993",
   "metadata": {},
   "outputs": [],
   "source": [
    "from pinecone import Pinecone\n",
    "from dotenv import load_dotenv\n",
    "import os\n",
    "load_dotenv()\n",
    "pc = Pinecone(api_key=os.getenv(\"PINECONE_API_KEY\"))"
   ]
  },
  {
   "cell_type": "code",
   "execution_count": null,
   "id": "b285dfa8",
   "metadata": {},
   "outputs": [],
   "source": [
    "# index = pc.Index(os.getenv(\"PINECONE_INDEX_NAME\"))\n",
    "# index.describe_index_stats()"
   ]
  },
  {
   "cell_type": "code",
   "execution_count": null,
   "id": "0f2dfd59",
   "metadata": {},
   "outputs": [],
   "source": [
    "from pinecone import Pinecone, ServerlessSpec\n",
    "index_name = \"wine-embeddings\"\n",
    "pc.create_index(\n",
    "    name=index_name,\n",
    "    dimension=768,  # 모델 차원\n",
    "    metric=\"cosine\",  # 모델 메트릭\n",
    "    spec=ServerlessSpec(\n",
    "        cloud=\"aws\",\n",
    "        region=\"us-east-1\"\n",
    "    )\n",
    ")"
   ]
  },
  {
   "cell_type": "code",
   "execution_count": 3,
   "id": "0011047b",
   "metadata": {},
   "outputs": [
    {
     "name": "stderr",
     "output_type": "stream",
     "text": [
      "c:\\Users\\Admin\\miniconda3\\envs\\torch_cuda_transformer_env\\lib\\site-packages\\tqdm\\auto.py:21: TqdmWarning: IProgress not found. Please update jupyter and ipywidgets. See https://ipywidgets.readthedocs.io/en/stable/user_install.html\n",
      "  from .autonotebook import tqdm as notebook_tqdm\n"
     ]
    },
    {
     "data": {
      "text/plain": [
       "{'dimension': 768,\n",
       " 'index_fullness': 0.0,\n",
       " 'metric': 'cosine',\n",
       " 'namespaces': {'': {'vector_count': 1280}},\n",
       " 'total_vector_count': 1280,\n",
       " 'vector_type': 'dense'}"
      ]
     },
     "execution_count": 3,
     "metadata": {},
     "output_type": "execute_result"
    }
   ],
   "source": [
    "# 'wine' 인덱스를 가져옵니다.\n",
    "index = pc.Index(index_name)\n",
    "\n",
    "index.describe_index_stats()"
   ]
  },
  {
   "cell_type": "markdown",
   "id": "b8423a32",
   "metadata": {},
   "source": [
    "# 데이터 로드"
   ]
  },
  {
   "cell_type": "code",
   "execution_count": 4,
   "id": "96ed844b",
   "metadata": {},
   "outputs": [
    {
     "name": "stdout",
     "output_type": "stream",
     "text": [
      "0 page_content=': 0\n",
      "country: Italy\n",
      "description: Aromas include tropical fruit, broom, brimstone and dried herb. The palate isn't overly expressive, offering unripened apple, citrus and dried sage alongside brisk acidity.\n",
      "designation: Vulkà Bianco\n",
      "points: 87\n",
      "price: \n",
      "province: Sicily & Sardinia\n",
      "region_1: Etna\n",
      "region_2: \n",
      "taster_name: Kerin O’Keefe\n",
      "taster_twitter_handle: @kerinokeefe\n",
      "title: Nicosia 2013 Vulkà Bianco  (Etna)\n",
      "variety: White Blend\n",
      "winery: Nicosia' metadata={'source': './winemag-data-130k-v2.csv', 'row': 0}\n",
      "1 page_content=': 1\n",
      "country: Portugal\n",
      "description: This is ripe and fruity, a wine that is smooth while still structured. Firm tannins are filled out with juicy red berry fruits and freshened with acidity. It's  already drinkable, although it will certainly be better from 2016.\n",
      "designation: Avidagos\n",
      "points: 87\n",
      "price: 15.0\n",
      "province: Douro\n",
      "region_1: \n",
      "region_2: \n",
      "taster_name: Roger Voss\n",
      "taster_twitter_handle: @vossroger\n",
      "title: Quinta dos Avidagos 2011 Avidagos Red (Douro)\n",
      "variety: Portuguese Red\n",
      "winery: Quinta dos Avidagos' metadata={'source': './winemag-data-130k-v2.csv', 'row': 1}\n",
      "2 page_content=': 2\n",
      "country: US\n",
      "description: Tart and snappy, the flavors of lime flesh and rind dominate. Some green pineapple pokes through, with crisp acidity underscoring the flavors. The wine was all stainless-steel fermented.\n",
      "designation: \n",
      "points: 87\n",
      "price: 14.0\n",
      "province: Oregon\n",
      "region_1: Willamette Valley\n",
      "region_2: Willamette Valley\n",
      "taster_name: Paul Gregutt\n",
      "taster_twitter_handle: @paulgwine\n",
      "title: Rainstorm 2013 Pinot Gris (Willamette Valley)\n",
      "variety: Pinot Gris\n",
      "winery: Rainstorm' metadata={'source': './winemag-data-130k-v2.csv', 'row': 2}\n"
     ]
    }
   ],
   "source": [
    "from langchain_community.document_loaders import CSVLoader\n",
    "\n",
    "loader = CSVLoader(\"./winemag-data-130k-v2.csv\")\n",
    "docs = loader.load()\n",
    "\n",
    "for i, doc in enumerate(docs[:3]):\n",
    "    print(str(i), doc)"
   ]
  },
  {
   "cell_type": "code",
   "execution_count": 5,
   "id": "1fc08f94",
   "metadata": {},
   "outputs": [
    {
     "data": {
      "text/plain": [
       "{'id': None,\n",
       " 'metadata': {'source': './winemag-data-130k-v2.csv', 'row': 0},\n",
       " 'page_content': \": 0\\ncountry: Italy\\ndescription: Aromas include tropical fruit, broom, brimstone and dried herb. The palate isn't overly expressive, offering unripened apple, citrus and dried sage alongside brisk acidity.\\ndesignation: Vulkà Bianco\\npoints: 87\\nprice: \\nprovince: Sicily & Sardinia\\nregion_1: Etna\\nregion_2: \\ntaster_name: Kerin O’Keefe\\ntaster_twitter_handle: @kerinokeefe\\ntitle: Nicosia 2013 Vulkà Bianco  (Etna)\\nvariety: White Blend\\nwinery: Nicosia\",\n",
       " 'type': 'Document'}"
      ]
     },
     "execution_count": 5,
     "metadata": {},
     "output_type": "execute_result"
    }
   ],
   "source": [
    "vars(docs[0])"
   ]
  },
  {
   "cell_type": "code",
   "execution_count": 6,
   "id": "403fb3f2",
   "metadata": {},
   "outputs": [
    {
     "name": "stdout",
     "output_type": "stream",
     "text": [
      "총 문서 개수: 129971\n",
      "Using device: cuda\n"
     ]
    },
    {
     "name": "stderr",
     "output_type": "stream",
     "text": [
      "100%|██████████| 508/508 [3:40:27<00:00, 26.04s/it]  "
     ]
    },
    {
     "name": "stdout",
     "output_type": "stream",
     "text": [
      "Pinecone 업로드 완료!\n"
     ]
    },
    {
     "name": "stderr",
     "output_type": "stream",
     "text": [
      "\n"
     ]
    }
   ],
   "source": [
    "import pinecone\n",
    "from langchain_community.document_loaders import CSVLoader\n",
    "from sentence_transformers import SentenceTransformer\n",
    "import torch\n",
    "from tqdm import tqdm\n",
    "import numpy as np\n",
    "from pinecone import Pinecone\n",
    "import os\n",
    "from dotenv import load_dotenv\n",
    "\n",
    "# 환경 변수 로드\n",
    "load_dotenv()\n",
    "# Pinecone 객체 생성\n",
    "pc = Pinecone(api_key=os.getenv(\"PINECONE_API_KEY\"))\n",
    "\n",
    "# 인덱스 연결\n",
    "index_name = \"wine-embeddings\"\n",
    "index = pc.Index(index_name)\n",
    "\n",
    "# CSVLoader로 데이터 불러오기\n",
    "loader = CSVLoader(\n",
    "    \"winemag-data-130k-v2.csv\",\n",
    "    encoding=\"utf-8\",\n",
    ")\n",
    "docs = loader.load()\n",
    "print(f\"총 문서 개수: {len(docs)}\")\n",
    "\n",
    "# Hugging Face 임베딩 모델 로드 (GPU)\n",
    "device = 'cuda' if torch.cuda.is_available() else 'cpu'\n",
    "print(f\"Using device: {device}\")\n",
    "\n",
    "model = SentenceTransformer('sentence-transformers/all-mpnet-base-v2', device=device)\n",
    "\n",
    "# 임베딩 생성 및 Pinecone 업로드\n",
    "batch_size = 256  # GPU 환경이면 배치 크게 가능\n",
    "for i in tqdm(range(0, len(docs), batch_size)):\n",
    "    batch_docs = docs[i:i+batch_size]\n",
    "    texts = [doc.page_content for doc in batch_docs]\n",
    "    \n",
    "    # GPU: convert_to_tensor=True\n",
    "    embeddings = model.encode(texts, show_progress_bar=False, convert_to_tensor=True)\n",
    "    embeddings = embeddings.cpu().numpy()  # Pinecone 업로드용으로 CPU로 이동\n",
    "\n",
    "    # Pinecone 업로드용 리스트 생성\n",
    "    to_upsert = [(str(i+j), embeddings[j].tolist(), {\"text\": texts[j]}) for j in range(len(batch_docs))]\n",
    "    index.upsert(vectors=to_upsert)\n",
    "\n",
    "print(\"Pinecone 업로드 완료!\")\n"
   ]
  },
  {
   "cell_type": "code",
   "execution_count": 3,
   "id": "937ecfbc",
   "metadata": {},
   "outputs": [
    {
     "name": "stdout",
     "output_type": "stream",
     "text": [
      "GPU 사용 가능: True\n",
      "GPU 개수: 1\n",
      "GPU 이름: NVIDIA GeForce RTX 4060 Laptop GPU\n",
      "현재 디바이스: 0\n"
     ]
    }
   ],
   "source": [
    "import torch\n",
    "\n",
    "# GPU 사용 가능 여부\n",
    "print(\"GPU 사용 가능:\", torch.cuda.is_available())\n",
    "\n",
    "# GPU 개수\n",
    "print(\"GPU 개수:\", torch.cuda.device_count())\n",
    "\n",
    "# GPU 이름 (0번 장치 기준)\n",
    "if torch.cuda.is_available():\n",
    "    print(\"GPU 이름:\", torch.cuda.get_device_name(0))\n",
    "\n",
    "# 현재 디바이스 정보\n",
    "print(\"현재 디바이스:\", torch.cuda.current_device() if torch.cuda.is_available() else \"CPU\")\n"
   ]
  }
 ],
 "metadata": {
  "kernelspec": {
   "display_name": "torch_cuda_transformer_env",
   "language": "python",
   "name": "python3"
  },
  "language_info": {
   "codemirror_mode": {
    "name": "ipython",
    "version": 3
   },
   "file_extension": ".py",
   "mimetype": "text/x-python",
   "name": "python",
   "nbconvert_exporter": "python",
   "pygments_lexer": "ipython3",
   "version": "3.10.18"
  }
 },
 "nbformat": 4,
 "nbformat_minor": 5
}
