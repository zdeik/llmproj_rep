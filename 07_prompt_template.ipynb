{
 "cells": [
  {
   "cell_type": "code",
   "execution_count": 1,
   "id": "8ea22d31",
   "metadata": {},
   "outputs": [],
   "source": [
    "# prompt_template"
   ]
  },
  {
   "cell_type": "code",
   "execution_count": 2,
   "id": "208cd9cc",
   "metadata": {},
   "outputs": [
    {
     "data": {
      "text/plain": [
       "ChatOpenAI(client=<openai.resources.chat.completions.completions.Completions object at 0x000002A1E2F294F0>, async_client=<openai.resources.chat.completions.completions.AsyncCompletions object at 0x000002A1E342E060>, root_client=<openai.OpenAI object at 0x000002A1E2ECBE90>, root_async_client=<openai.AsyncOpenAI object at 0x000002A1E2FC3BF0>, model_name='gpt-4o-mini', model_kwargs={}, openai_api_key=SecretStr('**********'))"
      ]
     },
     "execution_count": 2,
     "metadata": {},
     "output_type": "execute_result"
    }
   ],
   "source": [
    "from langchain_openai import ChatOpenAI\n",
    "llm = ChatOpenAI(model=\"gpt-4o-mini\")\n",
    "llm"
   ]
  },
  {
   "cell_type": "code",
   "execution_count": 6,
   "id": "cb2e78be",
   "metadata": {},
   "outputs": [
    {
     "data": {
      "text/plain": [
       "'서울에서 유명한 맛집을 알려주세요'"
      ]
     },
     "execution_count": 6,
     "metadata": {},
     "output_type": "execute_result"
    }
   ],
   "source": [
    "from langchain.prompts import PromptTemplate\n",
    "template = PromptTemplate.from_template(\"{city}에서 {adj} {topic}을 알려주세요\")\n",
    "prompt = template.format(city='서울',adj='유명한', topic='맛집')\n",
    "prompt"
   ]
  },
  {
   "cell_type": "code",
   "execution_count": 7,
   "id": "9b388771",
   "metadata": {},
   "outputs": [
    {
     "data": {
      "text/plain": [
       "AIMessage(content='서울에는 다양한 맛집이 많아서 선택하기 어려울 정도입니다! 몇 가지 추천해드릴게요.\\n\\n1. **광장시장** - 전통시장으로서 빈대떡, 마약김밥, 육회 등이 유명합니다. 여러 가지 음식들을 한 자리에서 즐길 수 있어요.\\n\\n2. **통인시장** - 도시락 카페가 유명한 이곳에서는 다양한 청년 창업 가게들이 모여있어 신선한 먹거리를 맛볼 수 있습니다.\\n\\n3. **부암동 카페거리** - 예쁜 카페와 함께 다양한 디저트를 제공하는 곳들이 많습니다. 특히, 산책하기 좋고 분위기가 좋습니다.\\n\\n4. **이화동** - 대학가 근처로 다양한 맛집들이 많습니다. 특히, 학생들에게 인기 있는 저렴한 가격의 맛집들이 많아요.\\n\\n5. **을지로** - 최근 핫플레이스로 떠오르는 을지로에는 맛있는 술집과 식당들이 모여 있습니다. 독특한 분위기의 식당들을 즐길 수 있습니다.\\n\\n각 지역마다 특색있는 음식들이 많으니 원하는 스타일에 맞춰 찾아보시면 좋을 것 같아요!', additional_kwargs={'refusal': None}, response_metadata={'token_usage': {'completion_tokens': 257, 'prompt_tokens': 16, 'total_tokens': 273, 'completion_tokens_details': {'accepted_prediction_tokens': 0, 'audio_tokens': 0, 'reasoning_tokens': 0, 'rejected_prediction_tokens': 0}, 'prompt_tokens_details': {'audio_tokens': 0, 'cached_tokens': 0}}, 'model_name': 'gpt-4o-mini-2024-07-18', 'system_fingerprint': 'fp_8bda4d3a2c', 'id': 'chatcmpl-CDLv3Rimr6Ps9uPyK5TQaT5jVgksE', 'service_tier': 'default', 'finish_reason': 'stop', 'logprobs': None}, id='run--fbdab4f1-7930-4b92-bc28-01ff5beeae84-0', usage_metadata={'input_tokens': 16, 'output_tokens': 257, 'total_tokens': 273, 'input_token_details': {'audio': 0, 'cache_read': 0}, 'output_token_details': {'audio': 0, 'reasoning': 0}})"
      ]
     },
     "execution_count": 7,
     "metadata": {},
     "output_type": "execute_result"
    }
   ],
   "source": [
    "response = llm.invoke(prompt)\n",
    "response"
   ]
  },
  {
   "cell_type": "code",
   "execution_count": 8,
   "id": "aafc26b5",
   "metadata": {},
   "outputs": [
    {
     "data": {
      "text/plain": [
       "'서울에는 다양한 맛집이 많아서 선택하기 어려울 정도입니다! 몇 가지 추천해드릴게요.\\n\\n1. **광장시장** - 전통시장으로서 빈대떡, 마약김밥, 육회 등이 유명합니다. 여러 가지 음식들을 한 자리에서 즐길 수 있어요.\\n\\n2. **통인시장** - 도시락 카페가 유명한 이곳에서는 다양한 청년 창업 가게들이 모여있어 신선한 먹거리를 맛볼 수 있습니다.\\n\\n3. **부암동 카페거리** - 예쁜 카페와 함께 다양한 디저트를 제공하는 곳들이 많습니다. 특히, 산책하기 좋고 분위기가 좋습니다.\\n\\n4. **이화동** - 대학가 근처로 다양한 맛집들이 많습니다. 특히, 학생들에게 인기 있는 저렴한 가격의 맛집들이 많아요.\\n\\n5. **을지로** - 최근 핫플레이스로 떠오르는 을지로에는 맛있는 술집과 식당들이 모여 있습니다. 독특한 분위기의 식당들을 즐길 수 있습니다.\\n\\n각 지역마다 특색있는 음식들이 많으니 원하는 스타일에 맞춰 찾아보시면 좋을 것 같아요!'"
      ]
     },
     "execution_count": 8,
     "metadata": {},
     "output_type": "execute_result"
    }
   ],
   "source": [
    "response.content"
   ]
  },
  {
   "cell_type": "code",
   "execution_count": null,
   "id": "5feb1004",
   "metadata": {},
   "outputs": [],
   "source": [
    "# template save"
   ]
  },
  {
   "cell_type": "code",
   "execution_count": 9,
   "id": "a034108a",
   "metadata": {},
   "outputs": [],
   "source": [
    "template.save('restaurant_tour_prompt.json')"
   ]
  },
  {
   "cell_type": "code",
   "execution_count": 10,
   "id": "e7587f0f",
   "metadata": {},
   "outputs": [
    {
     "data": {
      "text/plain": [
       "'부산에서 가장 멋진 박물관을 알려주세요'"
      ]
     },
     "execution_count": 10,
     "metadata": {},
     "output_type": "execute_result"
    }
   ],
   "source": [
    "from langchain.prompts import load_prompt\n",
    "temp_load = load_prompt('restaurant_tour_prompt.json')\n",
    "prompt = temp_load.format(city='부산',adj='가장 멋진', topic='박물관')\n",
    "prompt"
   ]
  },
  {
   "cell_type": "code",
   "execution_count": null,
   "id": "f649e60e",
   "metadata": {},
   "outputs": [],
   "source": [
    "# ChatPromptTemplate"
   ]
  },
  {
   "cell_type": "code",
   "execution_count": 13,
   "id": "0e906de2",
   "metadata": {},
   "outputs": [
    {
     "data": {
      "text/plain": [
       "ChatPromptTemplate(input_variables=['place', 'question', 'travel', 'when'], input_types={}, partial_variables={}, messages=[SystemMessagePromptTemplate(prompt=PromptTemplate(input_variables=[], input_types={}, partial_variables={}, template='당신은 베테랑 여행 가이드입니다. 고객 맞춤 여행일정 수립을 도와드립니다.'), additional_kwargs={}), HumanMessagePromptTemplate(prompt=PromptTemplate(input_variables=['place', 'travel', 'when'], input_types={}, partial_variables={}, template='{when}에 {place}로 {travel}을 계획중입니다.'), additional_kwargs={}), AIMessagePromptTemplate(prompt=PromptTemplate(input_variables=['place'], input_types={}, partial_variables={}, template='제가 {place}의 전문여행가이드입니다. 어떤 도움이 필요하세요?'), additional_kwargs={}), HumanMessagePromptTemplate(prompt=PromptTemplate(input_variables=['question'], input_types={}, partial_variables={}, template='{question}'), additional_kwargs={})])"
      ]
     },
     "execution_count": 13,
     "metadata": {},
     "output_type": "execute_result"
    }
   ],
   "source": [
    "from langchain.prompts import ChatPromptTemplate\n",
    "\n",
    "chat_template = ChatPromptTemplate.from_messages(\n",
    "    [\n",
    "        ('system','당신은 베테랑 여행 가이드입니다. 고객 맞춤 여행일정 수립을 도와드립니다.'),\n",
    "        ('human','{when}에 {place}로 {travel}을 계획중입니다.'),\n",
    "        ('ai','제가 {place}의 전문여행가이드입니다. 어떤 도움이 필요하세요?'),\n",
    "        ('human','{question}')\n",
    "    ]\n",
    ")\n",
    "chat_template\n"
   ]
  },
  {
   "cell_type": "code",
   "execution_count": 16,
   "id": "40621258",
   "metadata": {},
   "outputs": [
    {
     "data": {
      "text/plain": [
       "[SystemMessage(content='당신은 베테랑 여행 가이드입니다. 고객 맞춤 여행일정 수립을 도와드립니다.', additional_kwargs={}, response_metadata={}),\n",
       " HumanMessage(content='가을에 제주로 자유여행을 계획중입니다.', additional_kwargs={}, response_metadata={}),\n",
       " AIMessage(content='제가 제주의 전문여행가이드입니다. 어떤 도움이 필요하세요?', additional_kwargs={}, response_metadata={}),\n",
       " HumanMessage(content='흥미로운 여행지 3곳을 추천해주세요', additional_kwargs={}, response_metadata={})]"
      ]
     },
     "execution_count": 16,
     "metadata": {},
     "output_type": "execute_result"
    }
   ],
   "source": [
    "final_prompt = chat_template.format_messages(when='가을', place='제주', travel='자유여행', question='흥미로운 여행지 3곳을 추천해주세요')\n",
    "final_prompt"
   ]
  },
  {
   "cell_type": "code",
   "execution_count": 17,
   "id": "74a87a4e",
   "metadata": {},
   "outputs": [
    {
     "data": {
      "text/plain": [
       "AIMessage(content='가을의 제주도는 아름다운 풍경과 선선한 날씨로 여행하기에 아주 좋은 시기입니다. 아래 세 곳을 추천드립니다:\\n\\n1. **한라산 국립공원**:\\n   - 제주도의 심장부에 위치한 한라산은 가을철에 특히 아름답습니다. 단풍으로 물든 산길을 따라 하이킹을 즐길 수 있습니다. 정상에서 바라보는 경치는 그야말로 장관입니다. 중산간 코스나 사라봉 코스 등 다양한 난이도의 트레일이 있어 체력에 맞게 선택할 수 있습니다.\\n\\n2. **성산 일출봉**:\\n   - 제주 동쪽에 위치한 성산 일출봉은 일출 명소로 유명하지만, 가을철에도 멋진 풍경을 제공합니다. 일출봉 정상에 올라가면 주변의 해안선과 바다, 그리고 가을 하늘이 어우러지는 경치를 감상할 수 있습니다. 하이킹이 끝난 후 근처의 우도에서도 여유로운 시간을 보낼 수 있습니다.\\n\\n3. **올레길**:\\n   - 제주도의 올레길은 자연을 온전히 느낄 수 있는 트레일입니다. 가을에는 덜 더운 날씨 덕분에 걷기에 더할 나위 없습니다. 특히 7코스(제주 시내 - 표선)나 10코스(서귀포 - 남원) 해안을 따라 걸으며 아름다운 바다와 풍경을 경험할 수 있습니다.\\n\\n이 외에도 제주도에는 많은 볼거리와 즐길 거리가 있으니, 계획하시는 여행일정에 맞춰 추가적인 추천을 원하신다면 언제든 말씀해 주세요!', additional_kwargs={'refusal': None}, response_metadata={'token_usage': {'completion_tokens': 370, 'prompt_tokens': 82, 'total_tokens': 452, 'completion_tokens_details': {'accepted_prediction_tokens': 0, 'audio_tokens': 0, 'reasoning_tokens': 0, 'rejected_prediction_tokens': 0}, 'prompt_tokens_details': {'audio_tokens': 0, 'cached_tokens': 0}}, 'model_name': 'gpt-4o-mini-2024-07-18', 'system_fingerprint': 'fp_8bda4d3a2c', 'id': 'chatcmpl-CDM6Kcm1FpSK4GYKliQ6NhgIPlR9U', 'service_tier': 'default', 'finish_reason': 'stop', 'logprobs': None}, id='run--7d94a189-34b8-49f2-9377-66cabccc9eba-0', usage_metadata={'input_tokens': 82, 'output_tokens': 370, 'total_tokens': 452, 'input_token_details': {'audio': 0, 'cache_read': 0}, 'output_token_details': {'audio': 0, 'reasoning': 0}})"
      ]
     },
     "execution_count": 17,
     "metadata": {},
     "output_type": "execute_result"
    }
   ],
   "source": [
    "final_response = llm.invoke(final_prompt)\n",
    "final_response"
   ]
  },
  {
   "cell_type": "code",
   "execution_count": 18,
   "id": "9dd84824",
   "metadata": {},
   "outputs": [
    {
     "data": {
      "text/plain": [
       "'가을의 제주도는 아름다운 풍경과 선선한 날씨로 여행하기에 아주 좋은 시기입니다. 아래 세 곳을 추천드립니다:\\n\\n1. **한라산 국립공원**:\\n   - 제주도의 심장부에 위치한 한라산은 가을철에 특히 아름답습니다. 단풍으로 물든 산길을 따라 하이킹을 즐길 수 있습니다. 정상에서 바라보는 경치는 그야말로 장관입니다. 중산간 코스나 사라봉 코스 등 다양한 난이도의 트레일이 있어 체력에 맞게 선택할 수 있습니다.\\n\\n2. **성산 일출봉**:\\n   - 제주 동쪽에 위치한 성산 일출봉은 일출 명소로 유명하지만, 가을철에도 멋진 풍경을 제공합니다. 일출봉 정상에 올라가면 주변의 해안선과 바다, 그리고 가을 하늘이 어우러지는 경치를 감상할 수 있습니다. 하이킹이 끝난 후 근처의 우도에서도 여유로운 시간을 보낼 수 있습니다.\\n\\n3. **올레길**:\\n   - 제주도의 올레길은 자연을 온전히 느낄 수 있는 트레일입니다. 가을에는 덜 더운 날씨 덕분에 걷기에 더할 나위 없습니다. 특히 7코스(제주 시내 - 표선)나 10코스(서귀포 - 남원) 해안을 따라 걸으며 아름다운 바다와 풍경을 경험할 수 있습니다.\\n\\n이 외에도 제주도에는 많은 볼거리와 즐길 거리가 있으니, 계획하시는 여행일정에 맞춰 추가적인 추천을 원하신다면 언제든 말씀해 주세요!'"
      ]
     },
     "execution_count": 18,
     "metadata": {},
     "output_type": "execute_result"
    }
   ],
   "source": [
    "final_response.content"
   ]
  },
  {
   "cell_type": "code",
   "execution_count": 24,
   "id": "b359ed92",
   "metadata": {},
   "outputs": [
    {
     "data": {
      "text/plain": [
       "'당신은 동남아 베테랑 여행 가이드입니다. 고객 맞춤 여행일정 수립을 도와드립니다.12월에 가족여행을 계획중입니다.'"
      ]
     },
     "execution_count": 24,
     "metadata": {},
     "output_type": "execute_result"
    }
   ],
   "source": [
    "prompt_1 = PromptTemplate.from_template('당신은 {place} 베테랑 여행 가이드입니다. 고객 맞춤 여행일정 수립을 도와드립니다.')\n",
    "prompt_2 = PromptTemplate.from_template('{when}에 {travel}을 계획중입니다.')\n",
    "\n",
    "concat_prompt = prompt_1 + prompt_2\n",
    "concat_prompt.format(place='동남아', when='12월', travel='가족여행')\n"
   ]
  }
 ],
 "metadata": {
  "kernelspec": {
   "display_name": "prompting_env",
   "language": "python",
   "name": "python3"
  },
  "language_info": {
   "codemirror_mode": {
    "name": "ipython",
    "version": 3
   },
   "file_extension": ".py",
   "mimetype": "text/x-python",
   "name": "python",
   "nbconvert_exporter": "python",
   "pygments_lexer": "ipython3",
   "version": "3.12.11"
  }
 },
 "nbformat": 4,
 "nbformat_minor": 5
}
